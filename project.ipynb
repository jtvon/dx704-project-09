{
  "cells": [
    {
      "cell_type": "markdown",
      "metadata": {
        "id": "Md413FzAvFD8"
      },
      "source": [
        "# DX 704 Week 9 Project\n",
        "\n",
        "This week's project will build an email spam classifier based on the Enron email data set.\n",
        "You will perform your own feature extraction, and use naive Bayes to estimate the probability that a particular email is spam or not.\n",
        "Finally, you will review the tradeoffs from different thresholds for automatically sending emails to the junk folder."
      ]
    },
    {
      "cell_type": "markdown",
      "metadata": {
        "id": "WBdILvlviZs2"
      },
      "source": [
        "The full project description and a template notebook are available on GitHub: [Project 9 Materials](https://github.com/bu-cds-dx704/dx704-project-09).\n"
      ]
    },
    {
      "cell_type": "markdown",
      "metadata": {
        "id": "eRDlXZBVd2aR"
      },
      "source": [
        "## Example Code\n",
        "\n",
        "You may find it helpful to refer to these GitHub repositories of Jupyter notebooks for example code.\n",
        "\n",
        "* https://github.com/bu-cds-omds/dx601-examples\n",
        "* https://github.com/bu-cds-omds/dx602-examples\n",
        "* https://github.com/bu-cds-omds/dx603-examples\n",
        "* https://github.com/bu-cds-omds/dx704-examples\n",
        "\n",
        "Any calculations demonstrated in code examples or videos may be found in these notebooks, and you are allowed to copy this example code in your homework answers."
      ]
    },
    {
      "cell_type": "markdown",
      "metadata": {
        "id": "wf1nEl0_Khm_"
      },
      "source": [
        "## Part 1: Download Data Set\n",
        "\n",
        "We will be using the Enron spam data set as prepared in this GitHub repository.\n",
        "\n",
        "https://github.com/MWiechmann/enron_spam_data\n",
        "\n",
        "You may need to download this differently depending on your environment."
      ]
    },
    {
      "cell_type": "code",
      "execution_count": 1,
      "metadata": {
        "colab": {
          "base_uri": "https://localhost:8080/"
        },
        "id": "mwpoSzUxKmG9",
        "outputId": "3ace62f1-c32a-462a-d538-36f3638b7dc4"
      },
      "outputs": [
        {
          "name": "stdout",
          "output_type": "stream",
          "text": [
            "zsh:1: command not found: wget\n"
          ]
        }
      ],
      "source": [
        "!wget https://github.com/MWiechmann/enron_spam_data/raw/refs/heads/master/enron_spam_data.zip"
      ]
    },
    {
      "cell_type": "code",
      "execution_count": 2,
      "metadata": {
        "id": "EfCir3ILLv8z"
      },
      "outputs": [],
      "source": [
        "import numpy as np\n",
        "import pandas as pd\n",
        "import json\n",
        "import matplotlib.pyplot as plt\n",
        "\n",
        "# Text feature extraction\n",
        "from sklearn.feature_extraction.text import CountVectorizer\n",
        "\n",
        "# Model building and evaluation\n",
        "from sklearn.metrics import ConfusionMatrixDisplay, confusion_matrix, auc"
      ]
    },
    {
      "cell_type": "code",
      "execution_count": 3,
      "metadata": {
        "colab": {
          "base_uri": "https://localhost:8080/",
          "height": 649
        },
        "id": "9gn-4hUzLywO",
        "outputId": "f810652e-7829-44dd-e842-137281f53be2"
      },
      "outputs": [
        {
          "data": {
            "text/html": [
              "<div>\n",
              "<style scoped>\n",
              "    .dataframe tbody tr th:only-of-type {\n",
              "        vertical-align: middle;\n",
              "    }\n",
              "\n",
              "    .dataframe tbody tr th {\n",
              "        vertical-align: top;\n",
              "    }\n",
              "\n",
              "    .dataframe thead th {\n",
              "        text-align: right;\n",
              "    }\n",
              "</style>\n",
              "<table border=\"1\" class=\"dataframe\">\n",
              "  <thead>\n",
              "    <tr style=\"text-align: right;\">\n",
              "      <th></th>\n",
              "      <th>Message ID</th>\n",
              "      <th>Subject</th>\n",
              "      <th>Message</th>\n",
              "      <th>Spam/Ham</th>\n",
              "      <th>Date</th>\n",
              "    </tr>\n",
              "  </thead>\n",
              "  <tbody>\n",
              "    <tr>\n",
              "      <th>0</th>\n",
              "      <td>0</td>\n",
              "      <td>christmas tree farm pictures</td>\n",
              "      <td>NaN</td>\n",
              "      <td>ham</td>\n",
              "      <td>1999-12-10</td>\n",
              "    </tr>\n",
              "    <tr>\n",
              "      <th>1</th>\n",
              "      <td>1</td>\n",
              "      <td>vastar resources , inc .</td>\n",
              "      <td>gary , production from the high island larger ...</td>\n",
              "      <td>ham</td>\n",
              "      <td>1999-12-13</td>\n",
              "    </tr>\n",
              "    <tr>\n",
              "      <th>2</th>\n",
              "      <td>2</td>\n",
              "      <td>calpine daily gas nomination</td>\n",
              "      <td>- calpine daily gas nomination 1 . doc</td>\n",
              "      <td>ham</td>\n",
              "      <td>1999-12-14</td>\n",
              "    </tr>\n",
              "    <tr>\n",
              "      <th>3</th>\n",
              "      <td>3</td>\n",
              "      <td>re : issue</td>\n",
              "      <td>fyi - see note below - already done .\\nstella\\...</td>\n",
              "      <td>ham</td>\n",
              "      <td>1999-12-14</td>\n",
              "    </tr>\n",
              "    <tr>\n",
              "      <th>4</th>\n",
              "      <td>4</td>\n",
              "      <td>meter 7268 nov allocation</td>\n",
              "      <td>fyi .\\n- - - - - - - - - - - - - - - - - - - -...</td>\n",
              "      <td>ham</td>\n",
              "      <td>1999-12-14</td>\n",
              "    </tr>\n",
              "    <tr>\n",
              "      <th>...</th>\n",
              "      <td>...</td>\n",
              "      <td>...</td>\n",
              "      <td>...</td>\n",
              "      <td>...</td>\n",
              "      <td>...</td>\n",
              "    </tr>\n",
              "    <tr>\n",
              "      <th>33711</th>\n",
              "      <td>33711</td>\n",
              "      <td>= ? iso - 8859 - 1 ? q ? good _ news _ c = eda...</td>\n",
              "      <td>hello , welcome to gigapharm onlinne shop .\\np...</td>\n",
              "      <td>spam</td>\n",
              "      <td>2005-07-29</td>\n",
              "    </tr>\n",
              "    <tr>\n",
              "      <th>33712</th>\n",
              "      <td>33712</td>\n",
              "      <td>all prescript medicines are on special . to be...</td>\n",
              "      <td>i got it earlier than expected and it was wrap...</td>\n",
              "      <td>spam</td>\n",
              "      <td>2005-07-29</td>\n",
              "    </tr>\n",
              "    <tr>\n",
              "      <th>33713</th>\n",
              "      <td>33713</td>\n",
              "      <td>the next generation online pharmacy .</td>\n",
              "      <td>are you ready to rock on ? let the man in you ...</td>\n",
              "      <td>spam</td>\n",
              "      <td>2005-07-30</td>\n",
              "    </tr>\n",
              "    <tr>\n",
              "      <th>33714</th>\n",
              "      <td>33714</td>\n",
              "      <td>bloow in 5 - 10 times the time</td>\n",
              "      <td>learn how to last 5 - 10 times longer in\\nbed ...</td>\n",
              "      <td>spam</td>\n",
              "      <td>2005-07-30</td>\n",
              "    </tr>\n",
              "    <tr>\n",
              "      <th>33715</th>\n",
              "      <td>33715</td>\n",
              "      <td>dear sir , i am interested in it</td>\n",
              "      <td>hi : )\\ndo you need some softwares ? i can giv...</td>\n",
              "      <td>spam</td>\n",
              "      <td>2005-07-31</td>\n",
              "    </tr>\n",
              "  </tbody>\n",
              "</table>\n",
              "<p>33716 rows × 5 columns</p>\n",
              "</div>"
            ],
            "text/plain": [
              "       Message ID                                            Subject  \\\n",
              "0               0                       christmas tree farm pictures   \n",
              "1               1                           vastar resources , inc .   \n",
              "2               2                       calpine daily gas nomination   \n",
              "3               3                                         re : issue   \n",
              "4               4                          meter 7268 nov allocation   \n",
              "...           ...                                                ...   \n",
              "33711       33711  = ? iso - 8859 - 1 ? q ? good _ news _ c = eda...   \n",
              "33712       33712  all prescript medicines are on special . to be...   \n",
              "33713       33713              the next generation online pharmacy .   \n",
              "33714       33714                     bloow in 5 - 10 times the time   \n",
              "33715       33715                   dear sir , i am interested in it   \n",
              "\n",
              "                                                 Message Spam/Ham        Date  \n",
              "0                                                    NaN      ham  1999-12-10  \n",
              "1      gary , production from the high island larger ...      ham  1999-12-13  \n",
              "2                 - calpine daily gas nomination 1 . doc      ham  1999-12-14  \n",
              "3      fyi - see note below - already done .\\nstella\\...      ham  1999-12-14  \n",
              "4      fyi .\\n- - - - - - - - - - - - - - - - - - - -...      ham  1999-12-14  \n",
              "...                                                  ...      ...         ...  \n",
              "33711  hello , welcome to gigapharm onlinne shop .\\np...     spam  2005-07-29  \n",
              "33712  i got it earlier than expected and it was wrap...     spam  2005-07-29  \n",
              "33713  are you ready to rock on ? let the man in you ...     spam  2005-07-30  \n",
              "33714  learn how to last 5 - 10 times longer in\\nbed ...     spam  2005-07-30  \n",
              "33715  hi : )\\ndo you need some softwares ? i can giv...     spam  2005-07-31  \n",
              "\n",
              "[33716 rows x 5 columns]"
            ]
          },
          "execution_count": 3,
          "metadata": {},
          "output_type": "execute_result"
        }
      ],
      "source": [
        "# pandas can read the zip file directly\n",
        "enron_spam_data = pd.read_csv(\"enron_spam_data.zip\")\n",
        "enron_spam_data"
      ]
    },
    {
      "cell_type": "code",
      "execution_count": 4,
      "metadata": {
        "colab": {
          "base_uri": "https://localhost:8080/"
        },
        "id": "JYypb_fJWF_A",
        "outputId": "17478b00-1c10-4026-a42b-dcc8a368eab5"
      },
      "outputs": [
        {
          "data": {
            "text/plain": [
              "np.float64(0.5092834262664611)"
            ]
          },
          "execution_count": 4,
          "metadata": {},
          "output_type": "execute_result"
        }
      ],
      "source": [
        "(enron_spam_data[\"Spam/Ham\"] == \"spam\").mean()"
      ]
    },
    {
      "cell_type": "markdown",
      "metadata": {
        "id": "C8oSLkMqvMFF"
      },
      "source": [
        "## Part 2: Design a Feature Extractor\n",
        "\n",
        "Design a feature extractor for this data set and write out two files of features based on the text.\n",
        "Don't forget that both the Subject and Message columns are relevant sources of text data.\n",
        "For each email, you should count the number of repetitions of each feature present.\n",
        "The auto-grader will assume that you are using a multinomial distribution in the following problems."
      ]
    },
    {
      "cell_type": "code",
      "execution_count": 5,
      "metadata": {
        "id": "-CF6wtn_VRjp"
      },
      "outputs": [
        {
          "name": "stdout",
          "output_type": "stream",
          "text": [
            "Extracted 10000 features\n",
            "Feature matrix shape: (33716, 10000)\n",
            "Sample features: ['your tongue', 'your urgent', 'your web', 'your website', 'your winning', 'yours', 'yours sincerely', 'yourself', 'yourself and', 'ypil', 'zero', 'zhiyong', 'zimbabwe', 'zimin', 'zimin lu', 'zip', 'zone', 'zone www', 'zonedubai', 'zonedubai uae']\n",
            "\n",
            "Sample bigrams: ['00 00', '00 20', '00 25', '00 32', '00 60', '00 90', '00 am', '00 and', '00 per', '00 pm']\n"
          ]
        }
      ],
      "source": [
        "# Combine Subject and Message into a single text field\n",
        "# Give subject extra weight since spam signals often appear there\n",
        "enron_spam_data['combined_text'] = (\n",
        "    enron_spam_data['Subject'].fillna('') + ' ' + \n",
        "    enron_spam_data['Message'].fillna('')\n",
        ")\n",
        "\n",
        "# Configure CountVectorizer for basic feature extraction\n",
        "vectorizer = CountVectorizer(\n",
        "    ngram_range=(1, 2),\n",
        "    analyzer='word',\n",
        "    max_features=10000\n",
        ")\n",
        "\n",
        "# Fit and transform on the combined text\n",
        "feature_matrix = vectorizer.fit_transform(enron_spam_data['combined_text'])\n",
        "feature_names = vectorizer.get_feature_names_out()\n",
        "\n",
        "print(f\"Extracted {len(feature_names)} features\")\n",
        "print(f\"Feature matrix shape: {feature_matrix.shape}\")\n",
        "print(f\"Sample features: {list(feature_names[-20:])}\")\n",
        "print(f\"\\nSample bigrams: {[f for f in feature_names if ' ' in f][:10]}\")"
      ]
    },
    {
      "cell_type": "markdown",
      "metadata": {
        "id": "g90ug-qYVWI2"
      },
      "source": [
        "Assign a row to the test data set if `Message ID % 30 == 0` and assign it to the training data set otherwise.\n",
        "Write two files, \"train-features.tsv\" and \"test-features.tsv\" with two columns, Message ID and features_json.\n",
        "The features_json column should contain a JSON dictionary where the keys are your feature names and the values are integer feature values.\n",
        "This will give us a sparse feature representation.\n"
      ]
    },
    {
      "cell_type": "code",
      "execution_count": 6,
      "metadata": {
        "id": "t7AjXVlXUpaR"
      },
      "outputs": [
        {
          "name": "stdout",
          "output_type": "stream",
          "text": [
            "Training samples: 32592\n",
            "Test samples: 1124\n"
          ]
        }
      ],
      "source": [
        "# Split data: test if Message ID % 30 == 0, otherwise train\n",
        "train_mask = enron_spam_data['Message ID'] % 30 != 0\n",
        "test_mask = enron_spam_data['Message ID'] % 30 == 0\n",
        "\n",
        "train_data = enron_spam_data[train_mask].copy()\n",
        "test_data = enron_spam_data[test_mask].copy()\n",
        "\n",
        "print(f\"Training samples: {len(train_data)}\")\n",
        "print(f\"Test samples: {len(test_data)}\")\n",
        "\n",
        "# Convert feature matrix to sparse JSON format\n",
        "def create_features_json(feature_matrix, feature_names):\n",
        "    \"\"\"Convert scipy sparse matrix to list of JSON dictionaries with non-zero counts\"\"\"\n",
        "    features_list = []\n",
        "    \n",
        "    for i in range(feature_matrix.shape[0]):\n",
        "        # Get non-zero features for this row\n",
        "        row = feature_matrix[i]\n",
        "        non_zero_indices = row.nonzero()[1]\n",
        "        \n",
        "        # Create dictionary with feature names and counts\n",
        "        feature_dict = {\n",
        "            feature_names[idx]: int(row[0, idx])\n",
        "            for idx in non_zero_indices\n",
        "        }\n",
        "        \n",
        "        features_list.append(json.dumps(feature_dict))\n",
        "    \n",
        "    return features_list\n",
        "\n",
        "# Get feature indices for train and test splits\n",
        "train_indices = train_data.index\n",
        "test_indices = test_data.index\n",
        "\n",
        "# Create features JSON for train and test\n",
        "train_features_json = create_features_json(feature_matrix[train_indices], feature_names)\n",
        "test_features_json = create_features_json(feature_matrix[test_indices], feature_names)\n",
        "\n",
        "# Create DataFrames with Message ID and features_json\n",
        "train_output = pd.DataFrame({\n",
        "    'Message ID': train_data['Message ID'].values,\n",
        "    'features_json': train_features_json\n",
        "})\n",
        "\n",
        "test_output = pd.DataFrame({\n",
        "    'Message ID': test_data['Message ID'].values,\n",
        "    'features_json': test_features_json\n",
        "})\n",
        "\n",
        "# Save to TSV files\n",
        "train_output.to_csv('submission/train-features.tsv', sep='\\t', index=False)\n",
        "test_output.to_csv('submission/test-features.tsv', sep='\\t', index=False)\n"
      ]
    },
    {
      "cell_type": "code",
      "execution_count": 7,
      "metadata": {},
      "outputs": [
        {
          "name": "stdout",
          "output_type": "stream",
          "text": [
            "\n",
            "Sample train features:\n",
            "   Message ID                                      features_json\n",
            "0           1  {\"resources\": 4, \"inc\": 4, \"gary\": 2, \"product...\n",
            "1           2  {\"nomination\": 2, \"gas\": 2, \"calpine\": 2, \"dai...\n",
            "2           3  {\"from\": 3, \"on\": 4, \"at\": 1, \"10\": 3, \"for\": ...\n",
            "\n",
            "Sample feature JSON: {\"resources\": 4, \"inc\": 4, \"gary\": 2, \"production\": 3, \"from\": 3, \"the\": 8, \"high\": 2, \"island\": 2, \"larger\": 2, \"block\": 2, \"on\": 7, \"saturday\": 1, \"at\": 3, \"00\": 2, \"about\": 1, \"500\": 4, \"gross\": 3,...\n",
            "\n",
            "Sample test features:\n",
            "   Message ID                                      features_json\n",
            "0           0         {\"christmas\": 1, \"farm\": 1, \"pictures\": 1}\n",
            "1          30  {\"christmas\": 1, \"production\": 3, \"from\": 1, \"...\n",
            "2          60  {\"the\": 1, \"of\": 1, \"by\": 1, \"please\": 1, \"cal...\n",
            "\n",
            "Sample feature JSON: {\"christmas\": 1, \"farm\": 1, \"pictures\": 1}...\n"
          ]
        }
      ],
      "source": [
        "print(\"\\nSample train features:\")\n",
        "print(train_output.head(3))\n",
        "print(f\"\\nSample feature JSON: {train_features_json[0][:200]}...\")\n",
        "\n",
        "print(\"\\nSample test features:\")\n",
        "print(test_output.head(3))\n",
        "print(f\"\\nSample feature JSON: {test_features_json[0][:200]}...\")"
      ]
    },
    {
      "cell_type": "markdown",
      "metadata": {
        "id": "WAEYBd7WUrC0"
      },
      "source": [
        "Submit \"train-features.tsv\" and \"test-features.tsv\" in Gradescope."
      ]
    },
    {
      "cell_type": "markdown",
      "metadata": {
        "id": "NwrLU0aIaNB7"
      },
      "source": [
        "Hint: these features will be graded based on the test accuracy of a logistic regression based on the training features.\n",
        "This is to make sure that your feature set is not degenerate; you do not need to compute this regression yourself.\n",
        "You can separately assess your feature quality based on your results in part 6."
      ]
    },
    {
      "cell_type": "markdown",
      "metadata": {
        "id": "O_PhU4d5vEFX"
      },
      "source": [
        "## Part 3: Compute Conditional Probabilities\n",
        "\n",
        "Based on your training data, compute appropriate conditional probabilities for use with naïve Bayes.\n",
        "Use of additive smoothing with $\\alpha=1$ to avoid zeros.\n"
      ]
    },
    {
      "cell_type": "code",
      "execution_count": 8,
      "metadata": {},
      "outputs": [
        {
          "name": "stdout",
          "output_type": "stream",
          "text": [
            "Total spam emails: 16599\n",
            "Total ham emails: 15993\n",
            "Total words in spam: 3618866\n",
            "Total words in ham: 4964866\n",
            "Vocabulary size: 10000\n"
          ]
        }
      ],
      "source": [
        "# Compute conditional probabilities P(feature|class) with Laplace smoothing (alpha=1)\n",
        "\n",
        "# Separate training data by class (get boolean arrays for spam/ham)\n",
        "train_spam_mask = (train_data['Spam/Ham'] == 'spam').values\n",
        "train_ham_mask = (train_data['Spam/Ham'] == 'ham').values\n",
        "\n",
        "# Get the training feature matrix\n",
        "train_feature_matrix = feature_matrix[train_indices]\n",
        "\n",
        "# Get feature counts for each class using boolean indexing\n",
        "spam_feature_matrix = train_feature_matrix[train_spam_mask]\n",
        "ham_feature_matrix = train_feature_matrix[train_ham_mask]\n",
        "\n",
        "# Sum feature counts across all documents in each class\n",
        "spam_feature_counts = np.array(spam_feature_matrix.sum(axis=0)).flatten()\n",
        "ham_feature_counts = np.array(ham_feature_matrix.sum(axis=0)).flatten()\n",
        "\n",
        "# Apply Laplace smoothing: P(feature|class) = (count + alpha) / (total_count + alpha * vocab_size)\n",
        "alpha = 1.0\n",
        "vocab_size = len(feature_names)\n",
        "\n",
        "# Total word counts in each class (sum of all feature counts)\n",
        "total_spam_words = spam_feature_counts.sum()\n",
        "total_ham_words = ham_feature_counts.sum()\n",
        "\n",
        "# Compute conditional probabilities with smoothing\n",
        "spam_probabilities = (spam_feature_counts + alpha) / (total_spam_words + alpha * vocab_size)\n",
        "ham_probabilities = (ham_feature_counts + alpha) / (total_ham_words + alpha * vocab_size)\n",
        "\n",
        "print(f\"Total spam emails: {train_spam_mask.sum()}\")\n",
        "print(f\"Total ham emails: {train_ham_mask.sum()}\")\n",
        "print(f\"Total words in spam: {total_spam_words}\")\n",
        "print(f\"Total words in ham: {total_ham_words}\")\n",
        "print(f\"Vocabulary size: {vocab_size}\")"
      ]
    },
    {
      "cell_type": "markdown",
      "metadata": {
        "id": "pbDJfLCdVfHh"
      },
      "source": [
        "Save the conditional probabilities in a file \"feature-probabilities.tsv\" with columns feature, ham_probability and spam_probability."
      ]
    },
    {
      "cell_type": "code",
      "execution_count": 9,
      "metadata": {
        "id": "kTVFW327VsOC"
      },
      "outputs": [
        {
          "name": "stdout",
          "output_type": "stream",
          "text": [
            "\n",
            "Top 10 most spam-indicative features:\n",
            "  pills: P(spam)=0.000497, P(ham)=0.000000\n",
            "  viagra: P(spam)=0.000455, P(ham)=0.000000\n",
            "  cialis: P(spam)=0.000312, P(ham)=0.000000\n",
            "  computron: P(spam)=0.000286, P(ham)=0.000000\n",
            "  voip: P(spam)=0.000269, P(ham)=0.000000\n",
            "  me com: P(spam)=0.000236, P(ham)=0.000000\n",
            "  computron me: P(spam)=0.000236, P(ham)=0.000000\n",
            "  ooking: P(spam)=0.000218, P(ham)=0.000000\n",
            "  nbsp: P(spam)=0.000213, P(ham)=0.000000\n",
            "  mx 2004: P(spam)=0.000213, P(ham)=0.000000\n",
            "\n",
            "Top 10 most ham-indicative features:\n",
            "  hou ect: P(spam)=0.000000, P(ham)=0.003178\n",
            "  ect ect: P(spam)=0.000000, P(ham)=0.003087\n",
            "  enron: P(spam)=0.000001, P(ham)=0.011881\n",
            "  enron enron: P(spam)=0.000000, P(ham)=0.001209\n",
            "  dynegy: P(spam)=0.000000, P(ham)=0.000951\n",
            "  kaminski: P(spam)=0.000000, P(ham)=0.000940\n",
            "  enron com: P(spam)=0.000000, P(ham)=0.000885\n",
            "  vince kaminski: P(spam)=0.000000, P(ham)=0.000805\n",
            "  ect cc: P(spam)=0.000000, P(ham)=0.000733\n",
            "  corp enron: P(spam)=0.000000, P(ham)=0.000620\n"
          ]
        }
      ],
      "source": [
        "# Save the conditional probabilities to a TSV file\n",
        "feature_prob_df = pd.DataFrame({\n",
        "    'feature': feature_names,\n",
        "    'ham_probability': ham_probabilities,\n",
        "    'spam_probability': spam_probabilities\n",
        "})\n",
        "\n",
        "# Display some interesting features\n",
        "print(\"\\nTop 10 most spam-indicative features:\")\n",
        "spam_ratio = spam_probabilities / (ham_probabilities + 1e-10)\n",
        "top_spam_idx = np.argsort(spam_ratio)[-10:][::-1]\n",
        "for idx in top_spam_idx:\n",
        "    print(f\"  {feature_names[idx]}: P(spam)={spam_probabilities[idx]:.6f}, P(ham)={ham_probabilities[idx]:.6f}\")\n",
        "\n",
        "print(\"\\nTop 10 most ham-indicative features:\")\n",
        "ham_ratio = ham_probabilities / (spam_probabilities + 1e-10)\n",
        "top_ham_idx = np.argsort(ham_ratio)[-10:][::-1]\n",
        "for idx in top_ham_idx:\n",
        "    print(f\"  {feature_names[idx]}: P(spam)={spam_probabilities[idx]:.6f}, P(ham)={ham_probabilities[idx]:.6f}\")"
      ]
    },
    {
      "cell_type": "code",
      "execution_count": 10,
      "metadata": {},
      "outputs": [],
      "source": [
        "feature_prob_df.to_csv('submission/feature-probabilities.tsv', sep='\\t', index=False)"
      ]
    },
    {
      "cell_type": "markdown",
      "metadata": {
        "id": "Ip-k6K-hVt6q"
      },
      "source": [
        "Submit \"feature-probabilities.tsv\" in Gradescope."
      ]
    },
    {
      "cell_type": "markdown",
      "metadata": {
        "id": "kuQpZbILYqNd"
      },
      "source": [
        "## Part 4: Implement a Naïve Bayes Classifier\n",
        "\n",
        "Implement a naïve Bayes classifier based on your previous feature probabilities."
      ]
    },
    {
      "cell_type": "code",
      "execution_count": 11,
      "metadata": {
        "id": "3MKi6er-Vde4"
      },
      "outputs": [
        {
          "name": "stdout",
          "output_type": "stream",
          "text": [
            "Computing predictions for training data...\n",
            "Training accuracy: 0.9772\n"
          ]
        },
        {
          "data": {
            "text/plain": [
              "<sklearn.metrics._plot.confusion_matrix.ConfusionMatrixDisplay at 0x1326f06e0>"
            ]
          },
          "execution_count": 11,
          "metadata": {},
          "output_type": "execute_result"
        },
        {
          "data": {
            "image/png": "[encoded data removed]",
            "text/plain": [
              "<Figure size 640x480 with 2 Axes>"
            ]
          },
          "metadata": {},
          "output_type": "display_data"
        }
      ],
      "source": [
        "# Implement Naïve Bayes classifier using the conditional probabilities from Part 3\n",
        "\n",
        "def naive_bayes_predict(feature_matrix, feature_probs_df, class_priors=None):\n",
        "    \"\"\"\n",
        "    Predict class probabilities using Naïve Bayes with multinomial model.\n",
        "    \n",
        "    Args:\n",
        "        feature_matrix: sparse matrix of feature counts (n_samples x n_features)\n",
        "        feature_probs_df: DataFrame with columns ['feature', 'ham_probability', 'spam_probability']\n",
        "        class_priors: dict with prior probabilities for each class (if None, uses training proportions)\n",
        "    \n",
        "    Returns:\n",
        "        DataFrame with columns ['ham', 'spam'] containing class probabilities\n",
        "    \"\"\"\n",
        "    n_samples = feature_matrix.shape[0]\n",
        "    \n",
        "    # Get conditional probabilities as arrays\n",
        "    ham_probs = feature_probs_df['ham_probability'].values\n",
        "    spam_probs = feature_probs_df['spam_probability'].values\n",
        "    \n",
        "    # Compute class priors if not provided\n",
        "    if class_priors is None:\n",
        "        # Use training data proportions\n",
        "        n_ham = train_ham_mask.sum()\n",
        "        n_spam = train_spam_mask.sum()\n",
        "        prior_ham = n_ham / (n_ham + n_spam)\n",
        "        prior_spam = n_spam / (n_ham + n_spam)\n",
        "    else:\n",
        "        prior_ham = class_priors['ham']\n",
        "        prior_spam = class_priors['spam']\n",
        "    \n",
        "    # Convert to log space to avoid numerical underflow\n",
        "    log_prior_ham = np.log(prior_ham)\n",
        "    log_prior_spam = np.log(prior_spam)\n",
        "    log_ham_probs = np.log(ham_probs)\n",
        "    log_spam_probs = np.log(spam_probs)\n",
        "    \n",
        "    # Initialize arrays for log probabilities\n",
        "    log_prob_ham = np.full(n_samples, log_prior_ham)\n",
        "    log_prob_spam = np.full(n_samples, log_prior_spam)\n",
        "    \n",
        "    # For each document, compute log P(class | document)\n",
        "    # P(class | doc) ∝ P(class) * ∏ P(feature_i | class)^count_i\n",
        "    # log P(class | doc) = log P(class) + Σ count_i * log P(feature_i | class)\n",
        "    \n",
        "    for i in range(n_samples):\n",
        "        # Get feature counts for this document\n",
        "        doc_features = feature_matrix[i]\n",
        "        non_zero_indices = doc_features.nonzero()[1]\n",
        "        \n",
        "        for feature_idx in non_zero_indices:\n",
        "            count = doc_features[0, feature_idx]\n",
        "            log_prob_ham[i] += count * log_ham_probs[feature_idx]\n",
        "            log_prob_spam[i] += count * log_spam_probs[feature_idx]\n",
        "    \n",
        "    # Convert back from log space and normalize to get probabilities\n",
        "    # Use log-sum-exp trick for numerical stability\n",
        "    max_log_prob = np.maximum(log_prob_ham, log_prob_spam)\n",
        "    \n",
        "    prob_ham = np.exp(log_prob_ham - max_log_prob)\n",
        "    prob_spam = np.exp(log_prob_spam - max_log_prob)\n",
        "    \n",
        "    # Normalize so probabilities sum to 1\n",
        "    total = prob_ham + prob_spam\n",
        "    prob_ham = prob_ham / total\n",
        "    prob_spam = prob_spam / total\n",
        "    \n",
        "    return pd.DataFrame({\n",
        "        'ham': prob_ham,\n",
        "        'spam': prob_spam\n",
        "    })\n",
        "\n",
        "# Test the classifier on training data\n",
        "print(\"Computing predictions for training data...\")\n",
        "train_predictions = naive_bayes_predict(train_feature_matrix, feature_prob_df)\n",
        "\n",
        "# Evaluate performance\n",
        "train_pred_labels = train_predictions.idxmax(axis=1)\n",
        "accuracy = (train_pred_labels == train_data['Spam/Ham'].values).mean()\n",
        "print(f\"Training accuracy: {accuracy:.4f}\")\n",
        "\n",
        "# Show confusion matrix\n",
        "cm = confusion_matrix(train_data['Spam/Ham'], train_pred_labels, labels=['ham', 'spam'])\n",
        "disp = ConfusionMatrixDisplay(confusion_matrix=cm, display_labels=['ham', 'spam'])\n",
        "disp.plot(cmap='Blues')\n"
      ]
    },
    {
      "cell_type": "markdown",
      "metadata": {
        "id": "NeYGfCYXW89l"
      },
      "source": [
        "Save your prediction probabilities to \"train-predictions.tsv\" with columns Message ID, ham and spam."
      ]
    },
    {
      "cell_type": "code",
      "execution_count": 12,
      "metadata": {
        "id": "kCKrHbpqZ1gY"
      },
      "outputs": [
        {
          "name": "stdout",
          "output_type": "stream",
          "text": [
            "Saved train-predictions.tsv\n"
          ]
        }
      ],
      "source": [
        "# Save training predictions to TSV file\n",
        "train_predictions_output = pd.DataFrame({\n",
        "    'Message ID': train_data['Message ID'].values,\n",
        "    'ham': train_predictions['ham'].values,\n",
        "    'spam': train_predictions['spam'].values\n",
        "})\n",
        "\n",
        "train_predictions_output.to_csv('submission/train-predictions.tsv', sep=\"\\t\", index=False)\n",
        "print(\"Saved train-predictions.tsv\")"
      ]
    },
    {
      "cell_type": "markdown",
      "metadata": {
        "id": "sGHYjWN9Z3Sq"
      },
      "source": [
        "Submit \"train-predictions.tsv\" in Gradescope."
      ]
    },
    {
      "cell_type": "markdown",
      "metadata": {
        "id": "PpTlyFLDOCDj"
      },
      "source": [
        "## Part 5: Predict Spam Probability for Test Data\n",
        "\n",
        "Use your previous classifier to predict spam probability for the test data."
      ]
    },
    {
      "cell_type": "code",
      "execution_count": 13,
      "metadata": {
        "id": "UELHs9CzXaz1"
      },
      "outputs": [
        {
          "name": "stdout",
          "output_type": "stream",
          "text": [
            "Computing predictions for test data...\n",
            "Test accuracy: 0.9724\n"
          ]
        },
        {
          "data": {
            "image/png": "[encoded data removed]",
            "text/plain": [
              "<Figure size 640x480 with 2 Axes>"
            ]
          },
          "metadata": {},
          "output_type": "display_data"
        }
      ],
      "source": [
        "# Get test feature matrix\n",
        "test_feature_matrix = feature_matrix[test_indices]\n",
        "\n",
        "# Compute predictions for test data using the same classifier\n",
        "print(\"Computing predictions for test data...\")\n",
        "test_predictions = naive_bayes_predict(test_feature_matrix, feature_prob_df)\n",
        "\n",
        "# Evaluate performance on test set\n",
        "test_pred_labels = test_predictions.idxmax(axis=1)\n",
        "test_accuracy = (test_pred_labels == test_data['Spam/Ham'].values).mean()\n",
        "print(f\"Test accuracy: {test_accuracy:.4f}\")\n",
        "\n",
        "# Show confusion matrix for test data\n",
        "cm_test = confusion_matrix(test_data['Spam/Ham'], test_pred_labels, labels=['ham', 'spam'])\n",
        "disp_test = ConfusionMatrixDisplay(confusion_matrix=cm_test, display_labels=['ham', 'spam'])\n",
        "disp_test.plot(cmap='Blues')\n",
        "None"
      ]
    },
    {
      "cell_type": "markdown",
      "metadata": {
        "id": "opc86JSEaAQM"
      },
      "source": [
        "Save your prediction probabilities in \"test-predictions.tsv\" with the same columns as \"train-predictions.tsv\"."
      ]
    },
    {
      "cell_type": "code",
      "execution_count": 14,
      "metadata": {
        "id": "qIg1XaY_Z_Rr"
      },
      "outputs": [
        {
          "name": "stdout",
          "output_type": "stream",
          "text": [
            "Saved test-predictions.tsv\n"
          ]
        }
      ],
      "source": [
        "# Save test predictions to TSV file\n",
        "test_predictions_output = pd.DataFrame({\n",
        "    'Message ID': test_data['Message ID'].values,\n",
        "    'ham': test_predictions['ham'].values,\n",
        "    'spam': test_predictions['spam'].values\n",
        "})\n",
        "\n",
        "test_predictions_output.to_csv('submission/test-predictions.tsv', sep='\\t', index=False)\n",
        "print(\"Saved test-predictions.tsv\")"
      ]
    },
    {
      "cell_type": "markdown",
      "metadata": {
        "id": "pLLbyE8paGqM"
      },
      "source": [
        "Submit \"test-predictions.tsv\" in Gradescope."
      ]
    },
    {
      "cell_type": "markdown",
      "metadata": {
        "id": "wU6ReUMsZNZ8"
      },
      "source": [
        "## Part 6: Construct ROC Curve\n",
        "\n",
        "For every probability threshold from 0.01 to .99 in increments of 0.01, compute the false and true positive rates from the test data using the spam class for positives.\n",
        "That is, if the predicted spam probability is greater than or equal to the threshold, predict spam."
      ]
    },
    {
      "cell_type": "code",
      "execution_count": 19,
      "metadata": {
        "id": "QAx9jbDBYOVo"
      },
      "outputs": [
        {
          "name": "stdout",
          "output_type": "stream",
          "text": [
            "AUC Score: 0.9829\n"
          ]
        },
        {
          "data": {
            "image/png": "[encoded data removed]",
            "text/plain": [
              "<Figure size 800x600 with 1 Axes>"
            ]
          },
          "metadata": {},
          "output_type": "display_data"
        }
      ],
      "source": [
        "# Construct ROC curve for spam probability\n",
        "roc_data = []\n",
        "thresh = np.arange(0.01, 1.00, 0.01)\n",
        "\n",
        "for t in thresh:\n",
        "    # Predict spam if P(spam) >= t\n",
        "    test_pred_labels_thresh = np.where(test_predictions['spam'] >= t, 'spam', 'ham')\n",
        "\n",
        "    # Denote positive vs negative\n",
        "    positive = (test_data['Spam/Ham'] == 'spam')\n",
        "    negative = (test_data['Spam/Ham'] == 'ham')\n",
        "\n",
        "    # True positives, false positives\n",
        "    true_positives = (positive) & (test_pred_labels_thresh == 'spam')\n",
        "    false_positives = (negative) & (test_pred_labels_thresh == 'spam')\n",
        "\n",
        "    # Compute the TPR and FPR\n",
        "    tpr = true_positives.sum() / positive.sum()\n",
        "    fpr = false_positives.sum() / negative.sum()\n",
        "\n",
        "    # Store as (threshold, FPR, TPR) - keeping threshold for sorting\n",
        "    roc_data.append((t, fpr, tpr))\n",
        "\n",
        "# Sort by threshold in DESCENDING order (higher threshold = stricter = lower FPR/TPR)\n",
        "# This ensures FPR increases monotonically from (0,0) to (1,1)\n",
        "roc_data.sort(reverse=True)\n",
        "\n",
        "# Extract FPR and TPR for plotting and AUC calculation\n",
        "fpr_list = [r[1] for r in roc_data]\n",
        "tpr_list = [r[2] for r in roc_data]\n",
        "thresh_sorted = [r[0] for r in roc_data]\n",
        "\n",
        "# Add endpoints (0,0) and (1,1) for complete ROC curve\n",
        "fpr_list = [0.0] + fpr_list + [1.0]\n",
        "tpr_list = [0.0] + tpr_list + [1.0]\n",
        "\n",
        "# Plot ROC curve\n",
        "plt.figure(figsize=(8, 6))\n",
        "plt.plot([0, 1], [0, 1], label=\"Random Classifier (AUC=0.5)\", color=\"gray\", linestyle=\"--\")\n",
        "plt.plot(fpr_list, tpr_list, label=\"Naïve Bayes Classifier\", linewidth=2, color='blue')\n",
        "\n",
        "plt.gca().set_xlim(0, 1)\n",
        "plt.gca().set_ylim(0, 1)\n",
        "plt.gca().set_aspect('equal')\n",
        "\n",
        "plt.legend(loc='lower right')\n",
        "plt.title(\"ROC Curve: Spam Detection\")\n",
        "plt.xlabel(\"False Positive Rate (FPR)\")\n",
        "plt.ylabel(\"True Positive Rate (TPR)\")\n",
        "plt.grid(True, alpha=0.3)\n",
        "\n",
        "# Calculate AUC using trapezoidal rule\n",
        "auc_score = auc(fpr_list, tpr_list)\n",
        "print(f\"AUC Score: {auc_score:.4f}\")\n",
        "\n",
        "plt.show()"
      ]
    },
    {
      "cell_type": "markdown",
      "metadata": {
        "id": "baGaDOauX2vE"
      },
      "source": [
        "Save this data in a file \"roc.tsv\" with columns threshold, false_positive_rate and true_positive rate."
      ]
    },
    {
      "cell_type": "code",
      "execution_count": 21,
      "metadata": {
        "id": "eSHCzA85YP_I"
      },
      "outputs": [
        {
          "name": "stdout",
          "output_type": "stream",
          "text": [
            "Saved roc.tsv\n",
            "\n",
            "Sample ROC data:\n",
            "   threshold  false_positive_rate  true_positive_rate\n",
            "0       0.01             0.045290            0.989510\n",
            "1       0.02             0.043478            0.987762\n",
            "2       0.03             0.043478            0.987762\n",
            "3       0.04             0.043478            0.986014\n",
            "4       0.05             0.041667            0.986014\n",
            "5       0.06             0.039855            0.986014\n",
            "6       0.07             0.038043            0.986014\n",
            "7       0.08             0.038043            0.986014\n",
            "8       0.09             0.038043            0.986014\n",
            "9       0.10             0.038043            0.986014\n",
            "\n",
            "Total thresholds: 99\n"
          ]
        }
      ],
      "source": [
        "# Save ROC data to TSV file\n",
        "# Create a lookup for FPR and TPR by threshold\n",
        "thresh_to_metrics = {r[0]: (r[1], r[2]) for r in roc_data}\n",
        "\n",
        "# Build dataframe in original threshold order (0.01, 0.02, ..., 0.99)\n",
        "roc_df = pd.DataFrame({\n",
        "    'threshold': thresh,\n",
        "    'false_positive_rate': [thresh_to_metrics[t][0] for t in thresh],\n",
        "    'true_positive_rate': [thresh_to_metrics[t][1] for t in thresh]\n",
        "})\n",
        "\n",
        "roc_df.to_csv('submission/roc.tsv', sep='\\t', index=False)\n",
        "print(\"Saved roc.tsv\")\n",
        "print(\"\\nSample ROC data:\")\n",
        "print(roc_df.head(10))\n",
        "print(f\"\\nTotal thresholds: {len(roc_df)}\")"
      ]
    },
    {
      "cell_type": "markdown",
      "metadata": {
        "id": "Z4po8_NMYRuo"
      },
      "source": [
        "Submit \"roc.tsv\" in Gradescope."
      ]
    },
    {
      "cell_type": "markdown",
      "metadata": {
        "id": "ynaBbiCZhMYi"
      },
      "source": [
        "## Part 7: Signup for Gemini API Key\n",
        "\n",
        "Create a free Gemini API key at https://aistudio.google.com/app/api-keys.\n",
        "You will need to do this with a personal Google account - it will not work with your BU Google account.\n",
        "This will not incur any charges unless you configure billing information for the key.\n",
        "\n",
        "You will be asked to start a Gemini free trial for week 11.\n",
        "This will not incur any charges unless you exceed expected usage by an order of magnitude.\n"
      ]
    },
    {
      "cell_type": "markdown",
      "metadata": {
        "id": "E3xFKcX6hxTL"
      },
      "source": [
        "No submission needed."
      ]
    },
    {
      "cell_type": "markdown",
      "metadata": {
        "id": "smsTLuFcvR-I"
      },
      "source": [
        "## Part 8: Code\n",
        "\n",
        "Please submit a Jupyter notebook that can reproduce all your calculations and recreate the previously submitted files.\n",
        "You do not need to provide code for data collection if you did that by manually."
      ]
    },
    {
      "cell_type": "markdown",
      "metadata": {
        "id": "zi8lV2pbvWMs"
      },
      "source": [
        "## Part 9: Acknowledgements\n",
        "\n",
        "If you discussed this assignment with anyone, please acknowledge them here.\n",
        "If you did this assignment completely on your own, simply write none below.\n",
        "\n",
        "If you used any libraries not mentioned in this module's content, please list them with a brief explanation what you used them for. If you did not use any other libraries, simply write none below.\n",
        "\n",
        "If you used any generative AI tools, please add links to your transcripts below, and any other information that you feel is necessary to comply with the generative AI policy. If you did not use any generative AI tools, simply write none below."
      ]
    }
  ],
  "metadata": {
    "colab": {
      "toc_visible": false
    },
    "kernelspec": {
      "display_name": ".venv",
      "language": "python",
      "name": "python3"
    },
    "language_info": {
      "codemirror_mode": {
        "name": "ipython",
        "version": 3
      },
      "file_extension": ".py",
      "mimetype": "text/x-python",
      "name": "python",
      "nbconvert_exporter": "python",
      "pygments_lexer": "ipython3",
      "version": "3.13.2"
    }
  },
  "nbformat": 4,
  "nbformat_minor": 0
}
