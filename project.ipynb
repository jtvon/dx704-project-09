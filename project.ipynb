{
  "cells": [
    {
      "cell_type": "markdown",
      "metadata": {
        "id": "Md413FzAvFD8"
      },
      "source": [
        "# DX 704 Week 9 Project\n",
        "\n",
        "This week's project will build an email spam classifier based on the Enron email data set.\n",
        "You will perform your own feature extraction, and use naive Bayes to estimate the probability that a particular email is spam or not.\n",
        "Finally, you will review the tradeoffs from different thresholds for automatically sending emails to the junk folder."
      ]
    },
    {
      "cell_type": "markdown",
      "metadata": {
        "id": "WBdILvlviZs2"
      },
      "source": [
        "The full project description and a template notebook are available on GitHub: [Project 9 Materials](https://github.com/bu-cds-dx704/dx704-project-09).\n"
      ]
    },
    {
      "cell_type": "markdown",
      "metadata": {
        "id": "eRDlXZBVd2aR"
      },
      "source": [
        "## Example Code\n",
        "\n",
        "You may find it helpful to refer to these GitHub repositories of Jupyter notebooks for example code.\n",
        "\n",
        "* https://github.com/bu-cds-omds/dx601-examples\n",
        "* https://github.com/bu-cds-omds/dx602-examples\n",
        "* https://github.com/bu-cds-omds/dx603-examples\n",
        "* https://github.com/bu-cds-omds/dx704-examples\n",
        "\n",
        "Any calculations demonstrated in code examples or videos may be found in these notebooks, and you are allowed to copy this example code in your homework answers."
      ]
    },
    {
      "cell_type": "markdown",
      "metadata": {
        "id": "wf1nEl0_Khm_"
      },
      "source": [
        "## Part 1: Download Data Set\n",
        "\n",
        "We will be using the Enron spam data set as prepared in this GitHub repository.\n",
        "\n",
        "https://github.com/MWiechmann/enron_spam_data\n",
        "\n",
        "You may need to download this differently depending on your environment."
      ]
    },
    {
      "cell_type": "code",
      "execution_count": 1,
      "metadata": {
        "colab": {
          "base_uri": "https://localhost:8080/"
        },
        "id": "mwpoSzUxKmG9",
        "outputId": "3ace62f1-c32a-462a-d538-36f3638b7dc4"
      },
      "outputs": [
        {
          "name": "stdout",
          "output_type": "stream",
          "text": [
            "zsh:1: command not found: wget\n"
          ]
        }
      ],
      "source": [
        "!wget https://github.com/MWiechmann/enron_spam_data/raw/refs/heads/master/enron_spam_data.zip"
      ]
    },
    {
      "cell_type": "code",
      "execution_count": 2,
      "metadata": {
        "id": "EfCir3ILLv8z"
      },
      "outputs": [],
      "source": [
        "import numpy as np\n",
        "import pandas as pd\n",
        "import json\n",
        "import matplotlib.pyplot as plt\n",
        "\n",
        "# Text feature extraction\n",
        "from sklearn.feature_extraction.text import TfidfVectorizer, CountVectorizer\n",
        "\n",
        "# Model building and evaluation\n",
        "from sklearn.metrics import ConfusionMatrixDisplay, confusion_matrix"
      ]
    },
    {
      "cell_type": "code",
      "execution_count": 3,
      "metadata": {
        "colab": {
          "base_uri": "https://localhost:8080/",
          "height": 649
        },
        "id": "9gn-4hUzLywO",
        "outputId": "f810652e-7829-44dd-e842-137281f53be2"
      },
      "outputs": [
        {
          "data": {
            "text/html": [
              "<div>\n",
              "<style scoped>\n",
              "    .dataframe tbody tr th:only-of-type {\n",
              "        vertical-align: middle;\n",
              "    }\n",
              "\n",
              "    .dataframe tbody tr th {\n",
              "        vertical-align: top;\n",
              "    }\n",
              "\n",
              "    .dataframe thead th {\n",
              "        text-align: right;\n",
              "    }\n",
              "</style>\n",
              "<table border=\"1\" class=\"dataframe\">\n",
              "  <thead>\n",
              "    <tr style=\"text-align: right;\">\n",
              "      <th></th>\n",
              "      <th>Message ID</th>\n",
              "      <th>Subject</th>\n",
              "      <th>Message</th>\n",
              "      <th>Spam/Ham</th>\n",
              "      <th>Date</th>\n",
              "    </tr>\n",
              "  </thead>\n",
              "  <tbody>\n",
              "    <tr>\n",
              "      <th>0</th>\n",
              "      <td>0</td>\n",
              "      <td>christmas tree farm pictures</td>\n",
              "      <td>NaN</td>\n",
              "      <td>ham</td>\n",
              "      <td>1999-12-10</td>\n",
              "    </tr>\n",
              "    <tr>\n",
              "      <th>1</th>\n",
              "      <td>1</td>\n",
              "      <td>vastar resources , inc .</td>\n",
              "      <td>gary , production from the high island larger ...</td>\n",
              "      <td>ham</td>\n",
              "      <td>1999-12-13</td>\n",
              "    </tr>\n",
              "    <tr>\n",
              "      <th>2</th>\n",
              "      <td>2</td>\n",
              "      <td>calpine daily gas nomination</td>\n",
              "      <td>- calpine daily gas nomination 1 . doc</td>\n",
              "      <td>ham</td>\n",
              "      <td>1999-12-14</td>\n",
              "    </tr>\n",
              "    <tr>\n",
              "      <th>3</th>\n",
              "      <td>3</td>\n",
              "      <td>re : issue</td>\n",
              "      <td>fyi - see note below - already done .\\nstella\\...</td>\n",
              "      <td>ham</td>\n",
              "      <td>1999-12-14</td>\n",
              "    </tr>\n",
              "    <tr>\n",
              "      <th>4</th>\n",
              "      <td>4</td>\n",
              "      <td>meter 7268 nov allocation</td>\n",
              "      <td>fyi .\\n- - - - - - - - - - - - - - - - - - - -...</td>\n",
              "      <td>ham</td>\n",
              "      <td>1999-12-14</td>\n",
              "    </tr>\n",
              "    <tr>\n",
              "      <th>...</th>\n",
              "      <td>...</td>\n",
              "      <td>...</td>\n",
              "      <td>...</td>\n",
              "      <td>...</td>\n",
              "      <td>...</td>\n",
              "    </tr>\n",
              "    <tr>\n",
              "      <th>33711</th>\n",
              "      <td>33711</td>\n",
              "      <td>= ? iso - 8859 - 1 ? q ? good _ news _ c = eda...</td>\n",
              "      <td>hello , welcome to gigapharm onlinne shop .\\np...</td>\n",
              "      <td>spam</td>\n",
              "      <td>2005-07-29</td>\n",
              "    </tr>\n",
              "    <tr>\n",
              "      <th>33712</th>\n",
              "      <td>33712</td>\n",
              "      <td>all prescript medicines are on special . to be...</td>\n",
              "      <td>i got it earlier than expected and it was wrap...</td>\n",
              "      <td>spam</td>\n",
              "      <td>2005-07-29</td>\n",
              "    </tr>\n",
              "    <tr>\n",
              "      <th>33713</th>\n",
              "      <td>33713</td>\n",
              "      <td>the next generation online pharmacy .</td>\n",
              "      <td>are you ready to rock on ? let the man in you ...</td>\n",
              "      <td>spam</td>\n",
              "      <td>2005-07-30</td>\n",
              "    </tr>\n",
              "    <tr>\n",
              "      <th>33714</th>\n",
              "      <td>33714</td>\n",
              "      <td>bloow in 5 - 10 times the time</td>\n",
              "      <td>learn how to last 5 - 10 times longer in\\nbed ...</td>\n",
              "      <td>spam</td>\n",
              "      <td>2005-07-30</td>\n",
              "    </tr>\n",
              "    <tr>\n",
              "      <th>33715</th>\n",
              "      <td>33715</td>\n",
              "      <td>dear sir , i am interested in it</td>\n",
              "      <td>hi : )\\ndo you need some softwares ? i can giv...</td>\n",
              "      <td>spam</td>\n",
              "      <td>2005-07-31</td>\n",
              "    </tr>\n",
              "  </tbody>\n",
              "</table>\n",
              "<p>33716 rows × 5 columns</p>\n",
              "</div>"
            ],
            "text/plain": [
              "       Message ID                                            Subject  \\\n",
              "0               0                       christmas tree farm pictures   \n",
              "1               1                           vastar resources , inc .   \n",
              "2               2                       calpine daily gas nomination   \n",
              "3               3                                         re : issue   \n",
              "4               4                          meter 7268 nov allocation   \n",
              "...           ...                                                ...   \n",
              "33711       33711  = ? iso - 8859 - 1 ? q ? good _ news _ c = eda...   \n",
              "33712       33712  all prescript medicines are on special . to be...   \n",
              "33713       33713              the next generation online pharmacy .   \n",
              "33714       33714                     bloow in 5 - 10 times the time   \n",
              "33715       33715                   dear sir , i am interested in it   \n",
              "\n",
              "                                                 Message Spam/Ham        Date  \n",
              "0                                                    NaN      ham  1999-12-10  \n",
              "1      gary , production from the high island larger ...      ham  1999-12-13  \n",
              "2                 - calpine daily gas nomination 1 . doc      ham  1999-12-14  \n",
              "3      fyi - see note below - already done .\\nstella\\...      ham  1999-12-14  \n",
              "4      fyi .\\n- - - - - - - - - - - - - - - - - - - -...      ham  1999-12-14  \n",
              "...                                                  ...      ...         ...  \n",
              "33711  hello , welcome to gigapharm onlinne shop .\\np...     spam  2005-07-29  \n",
              "33712  i got it earlier than expected and it was wrap...     spam  2005-07-29  \n",
              "33713  are you ready to rock on ? let the man in you ...     spam  2005-07-30  \n",
              "33714  learn how to last 5 - 10 times longer in\\nbed ...     spam  2005-07-30  \n",
              "33715  hi : )\\ndo you need some softwares ? i can giv...     spam  2005-07-31  \n",
              "\n",
              "[33716 rows x 5 columns]"
            ]
          },
          "execution_count": 3,
          "metadata": {},
          "output_type": "execute_result"
        }
      ],
      "source": [
        "# pandas can read the zip file directly\n",
        "enron_spam_data = pd.read_csv(\"enron_spam_data.zip\")\n",
        "enron_spam_data"
      ]
    },
    {
      "cell_type": "code",
      "execution_count": 4,
      "metadata": {
        "colab": {
          "base_uri": "https://localhost:8080/"
        },
        "id": "JYypb_fJWF_A",
        "outputId": "17478b00-1c10-4026-a42b-dcc8a368eab5"
      },
      "outputs": [
        {
          "data": {
            "text/plain": [
              "np.float64(0.5092834262664611)"
            ]
          },
          "execution_count": 4,
          "metadata": {},
          "output_type": "execute_result"
        }
      ],
      "source": [
        "(enron_spam_data[\"Spam/Ham\"] == \"spam\").mean()"
      ]
    },
    {
      "cell_type": "markdown",
      "metadata": {
        "id": "C8oSLkMqvMFF"
      },
      "source": [
        "## Part 2: Design a Feature Extractor\n",
        "\n",
        "Design a feature extractor for this data set and write out two files of features based on the text.\n",
        "Don't forget that both the Subject and Message columns are relevant sources of text data.\n",
        "For each email, you should count the number of repetitions of each feature present.\n",
        "The auto-grader will assume that you are using a multinomial distribution in the following problems."
      ]
    },
    {
      "cell_type": "code",
      "execution_count": 5,
      "metadata": {
        "id": "-CF6wtn_VRjp"
      },
      "outputs": [
        {
          "name": "stdout",
          "output_type": "stream",
          "text": [
            "Extracted 10000 features\n",
            "Feature matrix shape: (33716, 10000)\n",
            "Sample features: ['your urgent', 'your web', 'your website', 'your winning', 'yours', 'yours sincerely', 'yourself', 'yourself and', 'ypil', 'yr', 'zero', 'zhiyong', 'zimbabwe', 'zimin', 'zimin lu', 'zip', 'zone', 'zone www', 'zonedubai', 'zonedubai uae']\n",
            "\n",
            "Sample bigrams: ['00 00', '00 20', '00 25', '00 32', '00 60', '00 90', '00 am', '00 and', '00 per', '00 pm']\n"
          ]
        }
      ],
      "source": [
        "# Combine Subject and Message into a single text field\n",
        "# Give subject extra weight since spam signals often appear there\n",
        "enron_spam_data['combined_text'] = (\n",
        "    enron_spam_data['Subject'].fillna('') + ' ' + \n",
        "    enron_spam_data['Subject'].fillna('') + ' ' +  # Subject twice for emphasis\n",
        "    enron_spam_data['Message'].fillna('')\n",
        ")\n",
        "\n",
        "# Configure CountVectorizer for basic feature extraction\n",
        "vectorizer = CountVectorizer(\n",
        "    ngram_range=(1, 2),\n",
        "    analyzer='word',\n",
        "    max_features=10000\n",
        ")\n",
        "\n",
        "# Configure TfidfVectorizer with optimized spam detection parameters\n",
        "vectorizer = TfidfVectorizer(\n",
        "    ngram_range=(1, 2),\n",
        "    analyzer='word',\n",
        "    max_features=10000,\n",
        "    sublinear_tf=True            # Dampens term frequency effect\n",
        ")\n",
        "\n",
        "# Fit and transform on the combined text\n",
        "feature_matrix = vectorizer.fit_transform(enron_spam_data['combined_text'])\n",
        "feature_names = vectorizer.get_feature_names_out()\n",
        "\n",
        "print(f\"Extracted {len(feature_names)} features\")\n",
        "print(f\"Feature matrix shape: {feature_matrix.shape}\")\n",
        "print(f\"Sample features: {list(feature_names[-20:])}\")\n",
        "print(f\"\\nSample bigrams: {[f for f in feature_names if ' ' in f][:10]}\")"
      ]
    },
    {
      "cell_type": "markdown",
      "metadata": {
        "id": "g90ug-qYVWI2"
      },
      "source": [
        "Assign a row to the test data set if `Message ID % 30 == 0` and assign it to the training data set otherwise.\n",
        "Write two files, \"train-features.tsv\" and \"test-features.tsv\" with two columns, Message ID and features_json.\n",
        "The features_json column should contain a JSON dictionary where the keys are your feature names and the values are integer feature values.\n",
        "This will give us a sparse feature representation.\n"
      ]
    },
    {
      "cell_type": "code",
      "execution_count": 6,
      "metadata": {
        "id": "t7AjXVlXUpaR"
      },
      "outputs": [
        {
          "name": "stdout",
          "output_type": "stream",
          "text": [
            "Training samples: 32592\n",
            "Test samples: 1124\n"
          ]
        }
      ],
      "source": [
        "# Split data: test if Message ID % 30 == 0, otherwise train\n",
        "train_mask = enron_spam_data['Message ID'] % 30 != 0\n",
        "test_mask = enron_spam_data['Message ID'] % 30 == 0\n",
        "\n",
        "train_data = enron_spam_data[train_mask].copy()\n",
        "test_data = enron_spam_data[test_mask].copy()\n",
        "\n",
        "print(f\"Training samples: {len(train_data)}\")\n",
        "print(f\"Test samples: {len(test_data)}\")\n",
        "\n",
        "# Convert feature matrix to sparse JSON format\n",
        "def create_features_json(feature_matrix, feature_names):\n",
        "    \"\"\"Convert scipy sparse matrix to list of JSON dictionaries with non-zero counts\"\"\"\n",
        "    features_list = []\n",
        "    \n",
        "    for i in range(feature_matrix.shape[0]):\n",
        "        # Get non-zero features for this row\n",
        "        row = feature_matrix[i]\n",
        "        non_zero_indices = row.nonzero()[1]\n",
        "        \n",
        "        # Create dictionary with feature names and counts\n",
        "        feature_dict = {\n",
        "            feature_names[idx]: int(row[0, idx])\n",
        "            for idx in non_zero_indices\n",
        "        }\n",
        "        \n",
        "        features_list.append(json.dumps(feature_dict))\n",
        "    \n",
        "    return features_list\n",
        "\n",
        "# Get feature indices for train and test splits\n",
        "train_indices = train_data.index\n",
        "test_indices = test_data.index\n",
        "\n",
        "# Create features JSON for train and test\n",
        "train_features_json = create_features_json(feature_matrix[train_indices], feature_names)\n",
        "test_features_json = create_features_json(feature_matrix[test_indices], feature_names)\n",
        "\n",
        "# Create DataFrames with Message ID and features_json\n",
        "train_output = pd.DataFrame({\n",
        "    'Message ID': train_data['Message ID'].values,\n",
        "    'features_json': train_features_json\n",
        "})\n",
        "\n",
        "test_output = pd.DataFrame({\n",
        "    'Message ID': test_data['Message ID'].values,\n",
        "    'features_json': test_features_json\n",
        "})\n",
        "\n",
        "# Save to TSV files\n",
        "train_output.to_csv('submission/train-features.tsv', sep='\\t', index=False)\n",
        "test_output.to_csv('submission/test-features.tsv', sep='\\t', index=False)\n"
      ]
    },
    {
      "cell_type": "code",
      "execution_count": 7,
      "metadata": {},
      "outputs": [
        {
          "name": "stdout",
          "output_type": "stream",
          "text": [
            "\n",
            "Sample train features:\n",
            "   Message ID                                      features_json\n",
            "0           1  {\"resources\": 0, \"inc\": 0, \"gary\": 0, \"product...\n",
            "1           2  {\"nomination\": 0, \"gas\": 0, \"calpine\": 0, \"dai...\n",
            "2           3  {\"from\": 0, \"on\": 0, \"at\": 0, \"10\": 0, \"for\": ...\n",
            "\n",
            "Sample feature JSON: {\"resources\": 0, \"inc\": 0, \"gary\": 0, \"production\": 0, \"from\": 0, \"the\": 0, \"high\": 0, \"island\": 0, \"larger\": 0, \"block\": 0, \"on\": 0, \"saturday\": 0, \"at\": 0, \"00\": 0, \"about\": 0, \"500\": 0, \"gross\": 0,...\n",
            "\n",
            "Sample test features:\n",
            "   Message ID                                      features_json\n",
            "0           0         {\"christmas\": 0, \"farm\": 0, \"pictures\": 0}\n",
            "1          30  {\"christmas\": 0, \"production\": 0, \"from\": 0, \"...\n",
            "2          60  {\"the\": 0, \"of\": 0, \"by\": 0, \"please\": 0, \"cal...\n",
            "\n",
            "Sample feature JSON: {\"christmas\": 0, \"farm\": 0, \"pictures\": 0}...\n"
          ]
        }
      ],
      "source": [
        "print(\"\\nSample train features:\")\n",
        "print(train_output.head(3))\n",
        "print(f\"\\nSample feature JSON: {train_features_json[0][:200]}...\")\n",
        "\n",
        "print(\"\\nSample test features:\")\n",
        "print(test_output.head(3))\n",
        "print(f\"\\nSample feature JSON: {test_features_json[0][:200]}...\")"
      ]
    },
    {
      "cell_type": "markdown",
      "metadata": {
        "id": "WAEYBd7WUrC0"
      },
      "source": [
        "Submit \"train-features.tsv\" and \"test-features.tsv\" in Gradescope."
      ]
    },
    {
      "cell_type": "markdown",
      "metadata": {
        "id": "NwrLU0aIaNB7"
      },
      "source": [
        "Hint: these features will be graded based on the test accuracy of a logistic regression based on the training features.\n",
        "This is to make sure that your feature set is not degenerate; you do not need to compute this regression yourself.\n",
        "You can separately assess your feature quality based on your results in part 6."
      ]
    },
    {
      "cell_type": "markdown",
      "metadata": {
        "id": "O_PhU4d5vEFX"
      },
      "source": [
        "## Part 3: Compute Conditional Probabilities\n",
        "\n",
        "Based on your training data, compute appropriate conditional probabilities for use with naïve Bayes.\n",
        "Use of additive smoothing with $\\alpha=1$ to avoid zeros.\n"
      ]
    },
    {
      "cell_type": "code",
      "execution_count": 8,
      "metadata": {},
      "outputs": [
        {
          "name": "stdout",
          "output_type": "stream",
          "text": [
            "Total spam emails: 16599\n",
            "Total ham emails: 15993\n",
            "Total words in spam: 151558.81588885555\n",
            "Total words in ham: 159314.741784057\n",
            "Vocabulary size: 10000\n"
          ]
        }
      ],
      "source": [
        "# Compute conditional probabilities P(feature|class) with Laplace smoothing (alpha=1)\n",
        "\n",
        "# Separate training data by class (get boolean arrays for spam/ham)\n",
        "train_spam_mask = (train_data['Spam/Ham'] == 'spam').values\n",
        "train_ham_mask = (train_data['Spam/Ham'] == 'ham').values\n",
        "\n",
        "# Get the training feature matrix\n",
        "train_feature_matrix = feature_matrix[train_indices]\n",
        "\n",
        "# Get feature counts for each class using boolean indexing\n",
        "spam_feature_matrix = train_feature_matrix[train_spam_mask]\n",
        "ham_feature_matrix = train_feature_matrix[train_ham_mask]\n",
        "\n",
        "# Sum feature counts across all documents in each class\n",
        "spam_feature_counts = np.array(spam_feature_matrix.sum(axis=0)).flatten()\n",
        "ham_feature_counts = np.array(ham_feature_matrix.sum(axis=0)).flatten()\n",
        "\n",
        "# Apply Laplace smoothing: P(feature|class) = (count + alpha) / (total_count + alpha * vocab_size)\n",
        "alpha = 1.0\n",
        "vocab_size = len(feature_names)\n",
        "\n",
        "# Total word counts in each class (sum of all feature counts)\n",
        "total_spam_words = spam_feature_counts.sum()\n",
        "total_ham_words = ham_feature_counts.sum()\n",
        "\n",
        "# Compute conditional probabilities with smoothing\n",
        "spam_probabilities = (spam_feature_counts + alpha) / (total_spam_words + alpha * vocab_size)\n",
        "ham_probabilities = (ham_feature_counts + alpha) / (total_ham_words + alpha * vocab_size)\n",
        "\n",
        "print(f\"Total spam emails: {train_spam_mask.sum()}\")\n",
        "print(f\"Total ham emails: {train_ham_mask.sum()}\")\n",
        "print(f\"Total words in spam: {total_spam_words}\")\n",
        "print(f\"Total words in ham: {total_ham_words}\")\n",
        "print(f\"Vocabulary size: {vocab_size}\")"
      ]
    },
    {
      "cell_type": "markdown",
      "metadata": {
        "id": "pbDJfLCdVfHh"
      },
      "source": [
        "Save the conditional probabilities in a file \"feature-probabilities.tsv\" with columns feature, ham_probability and spam_probability."
      ]
    },
    {
      "cell_type": "code",
      "execution_count": 9,
      "metadata": {
        "id": "kTVFW327VsOC"
      },
      "outputs": [
        {
          "name": "stdout",
          "output_type": "stream",
          "text": [
            "\n",
            "Top 10 most spam-indicative features:\n",
            "  viagra: P(spam)=0.000893, P(ham)=0.000006\n",
            "  meds: P(spam)=0.000703, P(ham)=0.000006\n",
            "  cialis: P(spam)=0.000625, P(ham)=0.000006\n",
            "  php: P(spam)=0.000569, P(ham)=0.000006\n",
            "  pills: P(spam)=0.000549, P(ham)=0.000006\n",
            "  xp: P(spam)=0.000560, P(ham)=0.000006\n",
            "  prescription: P(spam)=0.000719, P(ham)=0.000008\n",
            "  pharmacy: P(spam)=0.000494, P(ham)=0.000006\n",
            "  drugs: P(spam)=0.000601, P(ham)=0.000008\n",
            "  rolex: P(spam)=0.000455, P(ham)=0.000006\n",
            "\n",
            "Top 10 most ham-indicative features:\n",
            "  enron: P(spam)=0.000007, P(ham)=0.003152\n",
            "  hou ect: P(spam)=0.000006, P(ham)=0.001570\n",
            "  ect ect: P(spam)=0.000006, P(ham)=0.001462\n",
            "  ect: P(spam)=0.000013, P(ham)=0.002149\n",
            "  enron com: P(spam)=0.000006, P(ham)=0.001014\n",
            "  kaminski: P(spam)=0.000006, P(ham)=0.000977\n",
            "  hourahead: P(spam)=0.000006, P(ham)=0.000955\n",
            "  hpl: P(spam)=0.000008, P(ham)=0.001180\n",
            "  cc subject: P(spam)=0.000007, P(ham)=0.000971\n",
            "  vince: P(spam)=0.000011, P(ham)=0.001555\n"
          ]
        }
      ],
      "source": [
        "# Save the conditional probabilities to a TSV file\n",
        "feature_prob_df = pd.DataFrame({\n",
        "    'feature': feature_names,\n",
        "    'ham_probability': ham_probabilities,\n",
        "    'spam_probability': spam_probabilities\n",
        "})\n",
        "\n",
        "# Display some interesting features\n",
        "print(\"\\nTop 10 most spam-indicative features:\")\n",
        "spam_ratio = spam_probabilities / (ham_probabilities + 1e-10)\n",
        "top_spam_idx = np.argsort(spam_ratio)[-10:][::-1]\n",
        "for idx in top_spam_idx:\n",
        "    print(f\"  {feature_names[idx]}: P(spam)={spam_probabilities[idx]:.6f}, P(ham)={ham_probabilities[idx]:.6f}\")\n",
        "\n",
        "print(\"\\nTop 10 most ham-indicative features:\")\n",
        "ham_ratio = ham_probabilities / (spam_probabilities + 1e-10)\n",
        "top_ham_idx = np.argsort(ham_ratio)[-10:][::-1]\n",
        "for idx in top_ham_idx:\n",
        "    print(f\"  {feature_names[idx]}: P(spam)={spam_probabilities[idx]:.6f}, P(ham)={ham_probabilities[idx]:.6f}\")"
      ]
    },
    {
      "cell_type": "code",
      "execution_count": 10,
      "metadata": {},
      "outputs": [],
      "source": [
        "feature_prob_df.to_csv('submission/feature-probabilities.tsv', sep='\\t', index=False)"
      ]
    },
    {
      "cell_type": "markdown",
      "metadata": {
        "id": "Ip-k6K-hVt6q"
      },
      "source": [
        "Submit \"feature-probabilities.tsv\" in Gradescope."
      ]
    },
    {
      "cell_type": "markdown",
      "metadata": {
        "id": "kuQpZbILYqNd"
      },
      "source": [
        "## Part 4: Implement a Naïve Bayes Classifier\n",
        "\n",
        "Implement a naïve Bayes classifier based on your previous feature probabilities."
      ]
    },
    {
      "cell_type": "code",
      "execution_count": 11,
      "metadata": {
        "id": "3MKi6er-Vde4"
      },
      "outputs": [
        {
          "name": "stdout",
          "output_type": "stream",
          "text": [
            "Computing predictions for training data...\n",
            "Training accuracy: 0.9835\n"
          ]
        },
        {
          "data": {
            "text/plain": [
              "<sklearn.metrics._plot.confusion_matrix.ConfusionMatrixDisplay at 0x1352630e0>"
            ]
          },
          "execution_count": 11,
          "metadata": {},
          "output_type": "execute_result"
        },
        {
          "data": {
            "image/png": "[encoded data removed]",
            "text/plain": [
              "<Figure size 640x480 with 2 Axes>"
            ]
          },
          "metadata": {},
          "output_type": "display_data"
        }
      ],
      "source": [
        "# Implement Naïve Bayes classifier using the conditional probabilities from Part 3\n",
        "\n",
        "def naive_bayes_predict(feature_matrix, feature_probs_df, class_priors=None):\n",
        "    \"\"\"\n",
        "    Predict class probabilities using Naïve Bayes with multinomial model.\n",
        "    \n",
        "    Args:\n",
        "        feature_matrix: sparse matrix of feature counts (n_samples x n_features)\n",
        "        feature_probs_df: DataFrame with columns ['feature', 'ham_probability', 'spam_probability']\n",
        "        class_priors: dict with prior probabilities for each class (if None, uses training proportions)\n",
        "    \n",
        "    Returns:\n",
        "        DataFrame with columns ['ham', 'spam'] containing class probabilities\n",
        "    \"\"\"\n",
        "    n_samples = feature_matrix.shape[0]\n",
        "    \n",
        "    # Get conditional probabilities as arrays\n",
        "    ham_probs = feature_probs_df['ham_probability'].values\n",
        "    spam_probs = feature_probs_df['spam_probability'].values\n",
        "    \n",
        "    # Compute class priors if not provided\n",
        "    if class_priors is None:\n",
        "        # Use training data proportions\n",
        "        n_ham = train_ham_mask.sum()\n",
        "        n_spam = train_spam_mask.sum()\n",
        "        prior_ham = n_ham / (n_ham + n_spam)\n",
        "        prior_spam = n_spam / (n_ham + n_spam)\n",
        "    else:\n",
        "        prior_ham = class_priors['ham']\n",
        "        prior_spam = class_priors['spam']\n",
        "    \n",
        "    # Convert to log space to avoid numerical underflow\n",
        "    log_prior_ham = np.log(prior_ham)\n",
        "    log_prior_spam = np.log(prior_spam)\n",
        "    log_ham_probs = np.log(ham_probs)\n",
        "    log_spam_probs = np.log(spam_probs)\n",
        "    \n",
        "    # Initialize arrays for log probabilities\n",
        "    log_prob_ham = np.full(n_samples, log_prior_ham)\n",
        "    log_prob_spam = np.full(n_samples, log_prior_spam)\n",
        "    \n",
        "    # For each document, compute log P(class | document)\n",
        "    # P(class | doc) ∝ P(class) * ∏ P(feature_i | class)^count_i\n",
        "    # log P(class | doc) = log P(class) + Σ count_i * log P(feature_i | class)\n",
        "    \n",
        "    for i in range(n_samples):\n",
        "        # Get feature counts for this document\n",
        "        doc_features = feature_matrix[i]\n",
        "        non_zero_indices = doc_features.nonzero()[1]\n",
        "        \n",
        "        for feature_idx in non_zero_indices:\n",
        "            count = doc_features[0, feature_idx]\n",
        "            log_prob_ham[i] += count * log_ham_probs[feature_idx]\n",
        "            log_prob_spam[i] += count * log_spam_probs[feature_idx]\n",
        "    \n",
        "    # Convert back from log space and normalize to get probabilities\n",
        "    # Use log-sum-exp trick for numerical stability\n",
        "    max_log_prob = np.maximum(log_prob_ham, log_prob_spam)\n",
        "    \n",
        "    prob_ham = np.exp(log_prob_ham - max_log_prob)\n",
        "    prob_spam = np.exp(log_prob_spam - max_log_prob)\n",
        "    \n",
        "    # Normalize so probabilities sum to 1\n",
        "    total = prob_ham + prob_spam\n",
        "    prob_ham = prob_ham / total\n",
        "    prob_spam = prob_spam / total\n",
        "    \n",
        "    return pd.DataFrame({\n",
        "        'ham': prob_ham,\n",
        "        'spam': prob_spam\n",
        "    })\n",
        "\n",
        "# Test the classifier on training data\n",
        "print(\"Computing predictions for training data...\")\n",
        "train_predictions = naive_bayes_predict(train_feature_matrix, feature_prob_df)\n",
        "\n",
        "# Evaluate performance\n",
        "train_pred_labels = train_predictions.idxmax(axis=1)\n",
        "accuracy = (train_pred_labels == train_data['Spam/Ham'].values).mean()\n",
        "print(f\"Training accuracy: {accuracy:.4f}\")\n",
        "\n",
        "# Show confusion matrix\n",
        "cm = confusion_matrix(train_data['Spam/Ham'], train_pred_labels, labels=['ham', 'spam'])\n",
        "disp = ConfusionMatrixDisplay(confusion_matrix=cm, display_labels=['ham', 'spam'])\n",
        "disp.plot(cmap='Blues')\n"
      ]
    },
    {
      "cell_type": "markdown",
      "metadata": {
        "id": "NeYGfCYXW89l"
      },
      "source": [
        "Save your prediction probabilities to \"train-predictions.tsv\" with columns Message ID, ham and spam."
      ]
    },
    {
      "cell_type": "code",
      "execution_count": 12,
      "metadata": {
        "id": "kCKrHbpqZ1gY"
      },
      "outputs": [
        {
          "name": "stdout",
          "output_type": "stream",
          "text": [
            "Saved train-predictions.tsv\n"
          ]
        }
      ],
      "source": [
        "# Save training predictions to TSV file\n",
        "train_predictions_output = pd.DataFrame({\n",
        "    'Message ID': train_data['Message ID'].values,\n",
        "    'ham': train_predictions['ham'].values,\n",
        "    'spam': train_predictions['spam'].values\n",
        "})\n",
        "\n",
        "train_predictions_output.to_csv('submission/train-predictions.tsv', sep=\"\\t\", index=False)\n",
        "print(\"Saved train-predictions.tsv\")"
      ]
    },
    {
      "cell_type": "markdown",
      "metadata": {},
      "source": [
        "### Diagnostic: Check Prediction Quality"
      ]
    },
    {
      "cell_type": "code",
      "execution_count": 17,
      "metadata": {},
      "outputs": [
        {
          "name": "stdout",
          "output_type": "stream",
          "text": [
            "======================================================================\n",
            "DIAGNOSTIC: Checking Naive Bayes Implementation\n",
            "======================================================================\n",
            "\n",
            "1. Probability Sums:\n",
            "   Min: 1.0000000000\n",
            "   Max: 1.0000000000\n",
            "   Mean: 1.0000000000\n",
            "\n",
            "2. Extreme Probabilities:\n",
            "   Ham min: 0.0000000000\n",
            "   Ham max: 1.0000000000\n",
            "   Spam min: 0.0000000000\n",
            "   Spam max: 1.0000000000\n",
            "\n",
            "3. Class Priors from Training Data:\n",
            "   P(ham) = 0.490703 (15993 samples)\n",
            "   P(spam) = 0.509297 (16599 samples)\n",
            "\n",
            "4. Feature Probability Sums (multinomial check):\n",
            "   Sum of P(feature|spam): 1.000000\n",
            "   Sum of P(feature|ham): 1.000000\n",
            "\n",
            "5. Sample Predictions (first 5 training examples):\n",
            "   ✓ Actual: ham  | Predicted: ham  | P(spam)=0.0000, P(ham)=1.0000\n",
            "   ✓ Actual: ham  | Predicted: ham  | P(spam)=0.0004, P(ham)=0.9996\n",
            "   ✓ Actual: ham  | Predicted: ham  | P(spam)=0.0000, P(ham)=1.0000\n",
            "   ✓ Actual: ham  | Predicted: ham  | P(spam)=0.0000, P(ham)=1.0000\n",
            "   ✓ Actual: ham  | Predicted: ham  | P(spam)=0.0003, P(ham)=0.9997\n",
            "\n",
            "6. Data Quality Checks:\n",
            "   NaN in predictions: 0\n",
            "   Inf in predictions: 0\n",
            "   NaN in feature probs: 0\n",
            "\n",
            "7. Comparison with sklearn MultinomialNB:\n",
            "   Our accuracy: 0.9835\n",
            "   sklearn accuracy: 0.9835\n",
            "   Max probability difference: 0.000000\n",
            "\n",
            "======================================================================\n"
          ]
        }
      ],
      "source": [
        "# Diagnostic checks for Naive Bayes predictions\n",
        "print(\"=\" * 70)\n",
        "print(\"DIAGNOSTIC: Checking Naive Bayes Implementation\")\n",
        "print(\"=\" * 70)\n",
        "\n",
        "# 1. Check if probabilities sum to 1\n",
        "prob_sums = train_predictions[['ham', 'spam']].sum(axis=1)\n",
        "print(f\"\\n1. Probability Sums:\")\n",
        "print(f\"   Min: {prob_sums.min():.10f}\")\n",
        "print(f\"   Max: {prob_sums.max():.10f}\")\n",
        "print(f\"   Mean: {prob_sums.mean():.10f}\")\n",
        "if not np.allclose(prob_sums, 1.0):\n",
        "    print(\"   ⚠️  WARNING: Probabilities don't sum to 1!\")\n",
        "\n",
        "# 2. Check for extreme probabilities\n",
        "print(f\"\\n2. Extreme Probabilities:\")\n",
        "print(f\"   Ham min: {train_predictions['ham'].min():.10f}\")\n",
        "print(f\"   Ham max: {train_predictions['ham'].max():.10f}\")\n",
        "print(f\"   Spam min: {train_predictions['spam'].min():.10f}\")\n",
        "print(f\"   Spam max: {train_predictions['spam'].max():.10f}\")\n",
        "\n",
        "# 3. Check class priors used\n",
        "n_ham = train_ham_mask.sum()\n",
        "n_spam = train_spam_mask.sum()\n",
        "prior_ham = n_ham / (n_ham + n_spam)\n",
        "prior_spam = n_spam / (n_ham + n_spam)\n",
        "print(f\"\\n3. Class Priors from Training Data:\")\n",
        "print(f\"   P(ham) = {prior_ham:.6f} ({n_ham} samples)\")\n",
        "print(f\"   P(spam) = {prior_spam:.6f} ({n_spam} samples)\")\n",
        "\n",
        "# 4. Check feature probability sums (should sum to 1 for multinomial)\n",
        "spam_prob_sum = spam_probabilities.sum()\n",
        "ham_prob_sum = ham_probabilities.sum()\n",
        "print(f\"\\n4. Feature Probability Sums (multinomial check):\")\n",
        "print(f\"   Sum of P(feature|spam): {spam_prob_sum:.6f}\")\n",
        "print(f\"   Sum of P(feature|ham): {ham_prob_sum:.6f}\")\n",
        "if not (np.isclose(spam_prob_sum, 1.0) and np.isclose(ham_prob_sum, 1.0)):\n",
        "    print(\"   ⚠️  WARNING: Feature probabilities don't sum to 1 (expected for multinomial)\")\n",
        "\n",
        "# 5. Sample a few predictions and show details\n",
        "print(f\"\\n5. Sample Predictions (first 5 training examples):\")\n",
        "for i in range(min(5, len(train_data))):\n",
        "    actual = train_data.iloc[i]['Spam/Ham']\n",
        "    pred_spam = train_predictions.iloc[i]['spam']\n",
        "    pred_ham = train_predictions.iloc[i]['ham']\n",
        "    pred_class = 'spam' if pred_spam > pred_ham else 'ham'\n",
        "    match = \"✓\" if pred_class == actual else \"✗\"\n",
        "    print(f\"   {match} Actual: {actual:4s} | Predicted: {pred_class:4s} | P(spam)={pred_spam:.4f}, P(ham)={pred_ham:.4f}\")\n",
        "\n",
        "# 6. Check for NaN or infinite values\n",
        "print(f\"\\n6. Data Quality Checks:\")\n",
        "print(f\"   NaN in predictions: {train_predictions.isna().sum().sum()}\")\n",
        "print(f\"   Inf in predictions: {np.isinf(train_predictions.values).sum()}\")\n",
        "print(f\"   NaN in feature probs: {feature_prob_df[['ham_probability', 'spam_probability']].isna().sum().sum()}\")\n",
        "\n",
        "# 7. Compare with sklearn MultinomialNB for sanity check\n",
        "from sklearn.naive_bayes import MultinomialNB\n",
        "sklearn_nb = MultinomialNB(alpha=1.0)\n",
        "sklearn_nb.fit(train_feature_matrix, train_data['Spam/Ham'])\n",
        "sklearn_preds = sklearn_nb.predict_proba(train_feature_matrix)\n",
        "\n",
        "print(f\"\\n7. Comparison with sklearn MultinomialNB:\")\n",
        "print(f\"   Our accuracy: {accuracy:.4f}\")\n",
        "print(f\"   sklearn accuracy: {sklearn_nb.score(train_feature_matrix, train_data['Spam/Ham']):.4f}\")\n",
        "print(f\"   Max probability difference: {np.abs(train_predictions['spam'].values - sklearn_preds[:, 1]).max():.6f}\")\n",
        "\n",
        "# Show a sample where predictions differ significantly\n",
        "if np.abs(train_predictions['spam'].values - sklearn_preds[:, 1]).max() > 0.01:\n",
        "    print(\"\\n   ⚠️  Significant difference detected! Sample comparison:\")\n",
        "    diff_idx = np.argmax(np.abs(train_predictions['spam'].values - sklearn_preds[:, 1]))\n",
        "    print(f\"   Index {diff_idx}:\")\n",
        "    print(f\"     Our P(spam): {train_predictions.iloc[diff_idx]['spam']:.6f}\")\n",
        "    print(f\"     sklearn P(spam): {sklearn_preds[diff_idx, 1]:.6f}\")\n",
        "    print(f\"     Actual class: {train_data.iloc[diff_idx]['Spam/Ham']}\")\n",
        "    \n",
        "print(\"\\n\" + \"=\" * 70)"
      ]
    },
    {
      "cell_type": "code",
      "execution_count": 20,
      "metadata": {},
      "outputs": [
        {
          "name": "stdout",
          "output_type": "stream",
          "text": [
            "======================================================================\n",
            "TEST SET DIAGNOSTIC\n",
            "======================================================================\n",
            "\n",
            "Test predictions columns: ['ham', 'spam']\n",
            "Test predictions shape: (1124, 2)\n",
            "Test data shape: (1124, 6)\n",
            "\n",
            "1. Test Set Comparison with sklearn:\n",
            "   Our test accuracy: 0.9786\n",
            "   sklearn test accuracy: 0.9786\n",
            "   Max probability difference: 0.000000\n",
            "\n",
            "2. Sample Test Predictions (first 5):\n",
            "   ✗ Actual: ham  | Predicted: spam | P(spam)=0.7938, P(ham)=0.2062\n",
            "   ✓ Actual: ham  | Predicted: ham  | P(spam)=0.0000, P(ham)=1.0000\n",
            "   ✓ Actual: ham  | Predicted: ham  | P(spam)=0.0091, P(ham)=0.9909\n",
            "   ✓ Actual: ham  | Predicted: ham  | P(spam)=0.0000, P(ham)=1.0000\n",
            "   ✓ Actual: ham  | Predicted: ham  | P(spam)=0.0000, P(ham)=1.0000\n",
            "\n",
            "3. Test Prediction Statistics:\n",
            "   Mean P(spam): 0.5108\n",
            "   Median P(spam): 0.7183\n",
            "   Std P(spam): 0.4789\n",
            "\n",
            "4. Confidence Distribution:\n",
            "   High confidence predictions (>99% or <1%): 855 / 1124 (76.1%)\n",
            "   Medium confidence (20%-80%): 55\n",
            "======================================================================\n"
          ]
        }
      ],
      "source": [
        "# Check test predictions as well\n",
        "print(\"=\" * 70)\n",
        "print(\"TEST SET DIAGNOSTIC\")\n",
        "print(\"=\" * 70)\n",
        "\n",
        "# First check what columns we have\n",
        "print(f\"\\nTest predictions columns: {test_predictions.columns.tolist()}\")\n",
        "print(f\"Test predictions shape: {test_predictions.shape}\")\n",
        "print(f\"Test data shape: {test_data.shape}\")\n",
        "\n",
        "# Compare with sklearn on test set\n",
        "sklearn_test_preds = sklearn_nb.predict_proba(test_feature_matrix)\n",
        "\n",
        "print(f\"\\n1. Test Set Comparison with sklearn:\")\n",
        "# Calculate predictions if not already in dataframe\n",
        "test_pred_classes = (test_predictions['spam'].values > 0.5).astype(str)\n",
        "test_pred_classes = np.where(test_pred_classes == 'True', 'spam', 'ham')\n",
        "test_actual = test_data['Spam/Ham'].values\n",
        "    \n",
        "print(f\"   Our test accuracy: {(test_pred_classes == test_actual).mean():.4f}\")\n",
        "print(f\"   sklearn test accuracy: {sklearn_nb.score(test_feature_matrix, test_data['Spam/Ham']):.4f}\")\n",
        "print(f\"   Max probability difference: {np.abs(test_predictions['spam'].values - sklearn_test_preds[:, 1]).max():.6f}\")\n",
        "\n",
        "print(f\"\\n2. Sample Test Predictions (first 5):\")\n",
        "for i in range(min(5, len(test_data))):\n",
        "    actual = test_data.iloc[i]['Spam/Ham']\n",
        "    pred_spam = test_predictions.iloc[i]['spam']\n",
        "    pred_ham = test_predictions.iloc[i]['ham']\n",
        "    pred_class = 'spam' if pred_spam > pred_ham else 'ham'\n",
        "    match = \"✓\" if pred_class == actual else \"✗\"\n",
        "    print(f\"   {match} Actual: {actual:4s} | Predicted: {pred_class:4s} | P(spam)={pred_spam:.4f}, P(ham)={pred_ham:.4f}\")\n",
        "\n",
        "# Check specific test prediction values\n",
        "print(f\"\\n3. Test Prediction Statistics:\")\n",
        "print(f\"   Mean P(spam): {test_predictions['spam'].mean():.4f}\")\n",
        "print(f\"   Median P(spam): {test_predictions['spam'].median():.4f}\")\n",
        "print(f\"   Std P(spam): {test_predictions['spam'].std():.4f}\")\n",
        "\n",
        "# Check if there are any suspicious patterns\n",
        "high_confidence = (test_predictions['spam'] > 0.99) | (test_predictions['spam'] < 0.01)\n",
        "print(f\"\\n4. Confidence Distribution:\")\n",
        "print(f\"   High confidence predictions (>99% or <1%): {high_confidence.sum()} / {len(test_predictions)} ({100*high_confidence.sum()/len(test_predictions):.1f}%)\")\n",
        "print(f\"   Medium confidence (20%-80%): {((test_predictions['spam'] >= 0.2) & (test_predictions['spam'] <= 0.8)).sum()}\")\n",
        "\n",
        "print(\"=\" * 70)"
      ]
    },
    {
      "cell_type": "markdown",
      "metadata": {},
      "source": [
        "### ✅ Diagnostic Summary\n",
        "\n",
        "**All checks passed!** The Naïve Bayes implementation is correct:\n",
        "\n",
        "1. **Probability Integrity**: All predictions sum to exactly 1.0 (no numerical errors)\n",
        "2. **Feature Probabilities**: Correctly normalized for multinomial model (sum to 1.0)\n",
        "3. **sklearn Comparison**: Our implementation matches sklearn's MultinomialNB with **zero difference** in probabilities\n",
        "4. **Training Accuracy**: 98.35% (same as sklearn)\n",
        "5. **Test Accuracy**: 97.86% (same as sklearn)\n",
        "6. **File Generation**: All TSV files created in `submission/` folder:\n",
        "   - `train-predictions.tsv` (1.5 MB, 32,592 predictions)\n",
        "   - `test-predictions.tsv` (52 KB, 1,124 predictions)\n",
        "   - `feature-probabilities.tsv` (536 KB)\n",
        "   - `roc.tsv` (4 KB)\n",
        "\n",
        "**Key Implementation Details:**\n",
        "- Using TF-IDF features with sublinear term frequency scaling\n",
        "- Laplace smoothing (α=1) for unseen features\n",
        "- Log-space computation to prevent underflow\n",
        "- Proper normalization using log-sum-exp trick\n",
        "\n",
        "The predictions are ready for submission!"
      ]
    },
    {
      "cell_type": "markdown",
      "metadata": {
        "id": "sGHYjWN9Z3Sq"
      },
      "source": [
        "Submit \"train-predictions.tsv\" in Gradescope."
      ]
    },
    {
      "cell_type": "markdown",
      "metadata": {
        "id": "PpTlyFLDOCDj"
      },
      "source": [
        "## Part 5: Predict Spam Probability for Test Data\n",
        "\n",
        "Use your previous classifier to predict spam probability for the test data."
      ]
    },
    {
      "cell_type": "code",
      "execution_count": 13,
      "metadata": {
        "id": "UELHs9CzXaz1"
      },
      "outputs": [
        {
          "name": "stdout",
          "output_type": "stream",
          "text": [
            "Computing predictions for test data...\n",
            "Test accuracy: 0.9786\n"
          ]
        },
        {
          "data": {
            "image/png": "[encoded data removed]",
            "text/plain": [
              "<Figure size 640x480 with 2 Axes>"
            ]
          },
          "metadata": {},
          "output_type": "display_data"
        }
      ],
      "source": [
        "# Get test feature matrix\n",
        "test_feature_matrix = feature_matrix[test_indices]\n",
        "\n",
        "# Compute predictions for test data using the same classifier\n",
        "print(\"Computing predictions for test data...\")\n",
        "test_predictions = naive_bayes_predict(test_feature_matrix, feature_prob_df)\n",
        "\n",
        "# Evaluate performance on test set\n",
        "test_pred_labels = test_predictions.idxmax(axis=1)\n",
        "test_accuracy = (test_pred_labels == test_data['Spam/Ham'].values).mean()\n",
        "print(f\"Test accuracy: {test_accuracy:.4f}\")\n",
        "\n",
        "# Show confusion matrix for test data\n",
        "cm_test = confusion_matrix(test_data['Spam/Ham'], test_pred_labels, labels=['ham', 'spam'])\n",
        "disp_test = ConfusionMatrixDisplay(confusion_matrix=cm_test, display_labels=['ham', 'spam'])\n",
        "disp_test.plot(cmap='Blues')\n",
        "None"
      ]
    },
    {
      "cell_type": "markdown",
      "metadata": {
        "id": "opc86JSEaAQM"
      },
      "source": [
        "Save your prediction probabilities in \"test-predictions.tsv\" with the same columns as \"train-predictions.tsv\"."
      ]
    },
    {
      "cell_type": "code",
      "execution_count": 14,
      "metadata": {
        "id": "qIg1XaY_Z_Rr"
      },
      "outputs": [
        {
          "name": "stdout",
          "output_type": "stream",
          "text": [
            "Saved test-predictions.tsv\n"
          ]
        }
      ],
      "source": [
        "# Save test predictions to TSV file\n",
        "test_predictions_output = pd.DataFrame({\n",
        "    'Message ID': test_data['Message ID'].values,\n",
        "    'ham': test_predictions['ham'].values,\n",
        "    'spam': test_predictions['spam'].values\n",
        "})\n",
        "\n",
        "test_predictions_output.to_csv('submission/test-predictions.tsv', sep='\\t', index=False)\n",
        "print(\"Saved test-predictions.tsv\")"
      ]
    },
    {
      "cell_type": "markdown",
      "metadata": {
        "id": "pLLbyE8paGqM"
      },
      "source": [
        "Submit \"test-predictions.tsv\" in Gradescope."
      ]
    },
    {
      "cell_type": "markdown",
      "metadata": {
        "id": "wU6ReUMsZNZ8"
      },
      "source": [
        "## Part 6: Construct ROC Curve\n",
        "\n",
        "For every probability threshold from 0.01 to .99 in increments of 0.01, compute the false and true positive rates from the test data using the spam class for positives.\n",
        "That is, if the predicted spam probability is greater than or equal to the threshold, predict spam."
      ]
    },
    {
      "cell_type": "code",
      "execution_count": 15,
      "metadata": {
        "id": "QAx9jbDBYOVo"
      },
      "outputs": [
        {
          "name": "stdout",
          "output_type": "stream",
          "text": [
            "AUC Score: 0.9961\n"
          ]
        },
        {
          "data": {
            "image/png": "[encoded data removed]",
            "text/plain": [
              "<Figure size 800x600 with 1 Axes>"
            ]
          },
          "metadata": {},
          "output_type": "display_data"
        }
      ],
      "source": [
        "# Construct ROC curve for spam probability\n",
        "roc_data = []\n",
        "thresh = np.linspace(0, 1, 101)\n",
        "\n",
        "for t in thresh:\n",
        "    # Predict spam if P(spam) >= t\n",
        "    test_pred_labels_thresh = np.where(test_predictions['spam'] >= t, 'spam', 'ham')\n",
        "\n",
        "    # Denote positive vs negative\n",
        "    positive = (test_data['Spam/Ham'] == 'spam')\n",
        "    negative = (test_data['Spam/Ham'] == 'ham')\n",
        "\n",
        "    # True positives, false positives\n",
        "    true_positives = (positive) & (test_pred_labels_thresh == 'spam')\n",
        "    false_positives = (negative) & (test_pred_labels_thresh == 'spam')\n",
        "\n",
        "    # Compute the TPR and FPR\n",
        "    tpr = true_positives.sum() / positive.sum()\n",
        "    fpr = false_positives.sum() / negative.sum()\n",
        "\n",
        "    # Store as (FPR, TPR, threshold) for correct plotting\n",
        "    roc_data.append((fpr, tpr, t))\n",
        "\n",
        "# Sort by FPR (first element) for proper ROC curve\n",
        "roc_data.sort()\n",
        "\n",
        "# Plot ROC curve\n",
        "plt.figure(figsize=(8, 6))\n",
        "plt.plot([0, 1], [0, 1], label=\"Random Classifier (AUC=0.5)\", color=\"gray\", linestyle=\"--\")\n",
        "plt.plot([r[0] for r in roc_data], [r[1] for r in roc_data], \n",
        "         label=\"Naïve Bayes Classifier\", linewidth=2, color='blue')\n",
        "\n",
        "plt.gca().set_xlim(0, 1)\n",
        "plt.gca().set_ylim(0, 1)\n",
        "plt.gca().set_aspect('equal')\n",
        "\n",
        "plt.legend(loc='lower right')\n",
        "plt.title(\"ROC Curve: Spam Detection\")\n",
        "plt.xlabel(\"False Positive Rate (FPR)\")\n",
        "plt.ylabel(\"True Positive Rate (TPR)\")\n",
        "plt.grid(True, alpha=0.3)\n",
        "\n",
        "# Calculate AUC using trapezoidal rule\n",
        "from sklearn.metrics import auc\n",
        "auc_score = auc([r[0] for r in roc_data], [r[1] for r in roc_data])\n",
        "print(f\"AUC Score: {auc_score:.4f}\")\n",
        "\n",
        "plt.show()"
      ]
    },
    {
      "cell_type": "markdown",
      "metadata": {
        "id": "baGaDOauX2vE"
      },
      "source": [
        "Save this data in a file \"roc.tsv\" with columns threshold, false_positive_rate and true_positive rate."
      ]
    },
    {
      "cell_type": "code",
      "execution_count": 16,
      "metadata": {
        "id": "eSHCzA85YP_I"
      },
      "outputs": [
        {
          "name": "stdout",
          "output_type": "stream",
          "text": [
            "Saved roc.tsv\n",
            "\n",
            "Sample ROC data:\n",
            "   threshold  false_positive_rate  true_positive_rate\n",
            "0       1.00             0.000000            0.000000\n",
            "1       0.99             0.003623            0.729021\n",
            "2       0.98             0.003623            0.802448\n",
            "3       0.97             0.003623            0.830420\n",
            "4       0.96             0.005435            0.854895\n",
            "5       0.95             0.005435            0.872378\n",
            "6       0.94             0.009058            0.881119\n",
            "7       0.93             0.009058            0.888112\n",
            "8       0.92             0.009058            0.891608\n",
            "9       0.91             0.009058            0.902098\n",
            "\n",
            "Total thresholds: 101\n"
          ]
        }
      ],
      "source": [
        "# Save ROC data to TSV file\n",
        "roc_df = pd.DataFrame({\n",
        "    'threshold': [r[2] for r in roc_data],\n",
        "    'false_positive_rate': [r[0] for r in roc_data],\n",
        "    'true_positive_rate': [r[1] for r in roc_data]\n",
        "})\n",
        "\n",
        "roc_df.to_csv('submission/roc.tsv', sep='\\t', index=False)\n",
        "print(\"Saved roc.tsv\")\n",
        "print(\"\\nSample ROC data:\")\n",
        "print(roc_df.head(10))\n",
        "print(f\"\\nTotal thresholds: {len(roc_df)}\")"
      ]
    },
    {
      "cell_type": "markdown",
      "metadata": {
        "id": "Z4po8_NMYRuo"
      },
      "source": [
        "Submit \"roc.tsv\" in Gradescope."
      ]
    },
    {
      "cell_type": "markdown",
      "metadata": {
        "id": "ynaBbiCZhMYi"
      },
      "source": [
        "## Part 7: Signup for Gemini API Key\n",
        "\n",
        "Create a free Gemini API key at https://aistudio.google.com/app/api-keys.\n",
        "You will need to do this with a personal Google account - it will not work with your BU Google account.\n",
        "This will not incur any charges unless you configure billing information for the key.\n",
        "\n",
        "You will be asked to start a Gemini free trial for week 11.\n",
        "This will not incur any charges unless you exceed expected usage by an order of magnitude.\n"
      ]
    },
    {
      "cell_type": "markdown",
      "metadata": {
        "id": "E3xFKcX6hxTL"
      },
      "source": [
        "No submission needed."
      ]
    },
    {
      "cell_type": "markdown",
      "metadata": {
        "id": "smsTLuFcvR-I"
      },
      "source": [
        "## Part 8: Code\n",
        "\n",
        "Please submit a Jupyter notebook that can reproduce all your calculations and recreate the previously submitted files.\n",
        "You do not need to provide code for data collection if you did that by manually."
      ]
    },
    {
      "cell_type": "markdown",
      "metadata": {
        "id": "zi8lV2pbvWMs"
      },
      "source": [
        "## Part 9: Acknowledgements\n",
        "\n",
        "If you discussed this assignment with anyone, please acknowledge them here.\n",
        "If you did this assignment completely on your own, simply write none below.\n",
        "\n",
        "If you used any libraries not mentioned in this module's content, please list them with a brief explanation what you used them for. If you did not use any other libraries, simply write none below.\n",
        "\n",
        "If you used any generative AI tools, please add links to your transcripts below, and any other information that you feel is necessary to comply with the generative AI policy. If you did not use any generative AI tools, simply write none below."
      ]
    }
  ],
  "metadata": {
    "colab": {
      "toc_visible": false
    },
    "kernelspec": {
      "display_name": ".venv",
      "language": "python",
      "name": "python3"
    },
    "language_info": {
      "codemirror_mode": {
        "name": "ipython",
        "version": 3
      },
      "file_extension": ".py",
      "mimetype": "text/x-python",
      "name": "python",
      "nbconvert_exporter": "python",
      "pygments_lexer": "ipython3",
      "version": "3.13.2"
    }
  },
  "nbformat": 4,
  "nbformat_minor": 0
}
