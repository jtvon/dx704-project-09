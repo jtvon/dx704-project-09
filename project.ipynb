{
  "cells": [
    {
      "cell_type": "markdown",
      "metadata": {
        "id": "Md413FzAvFD8"
      },
      "source": [
        "# DX 704 Week 9 Project\n",
        "\n",
        "This week's project will build an email spam classifier based on the Enron email data set.\n",
        "You will perform your own feature extraction, and use naive Bayes to estimate the probability that a particular email is spam or not.\n",
        "Finally, you will review the tradeoffs from different thresholds for automatically sending emails to the junk folder."
      ]
    },
    {
      "cell_type": "markdown",
      "metadata": {
        "id": "WBdILvlviZs2"
      },
      "source": [
        "The full project description and a template notebook are available on GitHub: [Project 9 Materials](https://github.com/bu-cds-dx704/dx704-project-09).\n"
      ]
    },
    {
      "cell_type": "markdown",
      "metadata": {
        "id": "eRDlXZBVd2aR"
      },
      "source": [
        "## Example Code\n",
        "\n",
        "You may find it helpful to refer to these GitHub repositories of Jupyter notebooks for example code.\n",
        "\n",
        "* https://github.com/bu-cds-omds/dx601-examples\n",
        "* https://github.com/bu-cds-omds/dx602-examples\n",
        "* https://github.com/bu-cds-omds/dx603-examples\n",
        "* https://github.com/bu-cds-omds/dx704-examples\n",
        "\n",
        "Any calculations demonstrated in code examples or videos may be found in these notebooks, and you are allowed to copy this example code in your homework answers."
      ]
    },
    {
      "cell_type": "markdown",
      "metadata": {
        "id": "wf1nEl0_Khm_"
      },
      "source": [
        "## Part 1: Download Data Set\n",
        "\n",
        "We will be using the Enron spam data set as prepared in this GitHub repository.\n",
        "\n",
        "https://github.com/MWiechmann/enron_spam_data\n",
        "\n",
        "You may need to download this differently depending on your environment."
      ]
    },
    {
      "cell_type": "code",
      "execution_count": 3,
      "metadata": {
        "colab": {
          "base_uri": "https://localhost:8080/"
        },
        "id": "mwpoSzUxKmG9",
        "outputId": "3ace62f1-c32a-462a-d538-36f3638b7dc4"
      },
      "outputs": [
        {
          "name": "stderr",
          "output_type": "stream",
          "text": [
            "'wget' is not recognized as an internal or external command,\n",
            "operable program or batch file.\n"
          ]
        }
      ],
      "source": [
        "!wget https://github.com/MWiechmann/enron_spam_data/raw/refs/heads/master/enron_spam_data.zip"
      ]
    },
    {
      "cell_type": "code",
      "execution_count": 1,
      "metadata": {
        "id": "EfCir3ILLv8z"
      },
      "outputs": [],
      "source": [
        "import pandas as pd"
      ]
    },
    {
      "cell_type": "code",
      "execution_count": 2,
      "metadata": {
        "colab": {
          "base_uri": "https://localhost:8080/",
          "height": 649
        },
        "id": "9gn-4hUzLywO",
        "outputId": "f810652e-7829-44dd-e842-137281f53be2"
      },
      "outputs": [
        {
          "data": {
            "text/html": [
              "<div>\n",
              "<style scoped>\n",
              "    .dataframe tbody tr th:only-of-type {\n",
              "        vertical-align: middle;\n",
              "    }\n",
              "\n",
              "    .dataframe tbody tr th {\n",
              "        vertical-align: top;\n",
              "    }\n",
              "\n",
              "    .dataframe thead th {\n",
              "        text-align: right;\n",
              "    }\n",
              "</style>\n",
              "<table border=\"1\" class=\"dataframe\">\n",
              "  <thead>\n",
              "    <tr style=\"text-align: right;\">\n",
              "      <th></th>\n",
              "      <th>Message ID</th>\n",
              "      <th>Subject</th>\n",
              "      <th>Message</th>\n",
              "      <th>Spam/Ham</th>\n",
              "      <th>Date</th>\n",
              "    </tr>\n",
              "  </thead>\n",
              "  <tbody>\n",
              "    <tr>\n",
              "      <th>0</th>\n",
              "      <td>0</td>\n",
              "      <td>christmas tree farm pictures</td>\n",
              "      <td>NaN</td>\n",
              "      <td>ham</td>\n",
              "      <td>1999-12-10</td>\n",
              "    </tr>\n",
              "    <tr>\n",
              "      <th>1</th>\n",
              "      <td>1</td>\n",
              "      <td>vastar resources , inc .</td>\n",
              "      <td>gary , production from the high island larger ...</td>\n",
              "      <td>ham</td>\n",
              "      <td>1999-12-13</td>\n",
              "    </tr>\n",
              "    <tr>\n",
              "      <th>2</th>\n",
              "      <td>2</td>\n",
              "      <td>calpine daily gas nomination</td>\n",
              "      <td>- calpine daily gas nomination 1 . doc</td>\n",
              "      <td>ham</td>\n",
              "      <td>1999-12-14</td>\n",
              "    </tr>\n",
              "    <tr>\n",
              "      <th>3</th>\n",
              "      <td>3</td>\n",
              "      <td>re : issue</td>\n",
              "      <td>fyi - see note below - already done .\\nstella\\...</td>\n",
              "      <td>ham</td>\n",
              "      <td>1999-12-14</td>\n",
              "    </tr>\n",
              "    <tr>\n",
              "      <th>4</th>\n",
              "      <td>4</td>\n",
              "      <td>meter 7268 nov allocation</td>\n",
              "      <td>fyi .\\n- - - - - - - - - - - - - - - - - - - -...</td>\n",
              "      <td>ham</td>\n",
              "      <td>1999-12-14</td>\n",
              "    </tr>\n",
              "    <tr>\n",
              "      <th>...</th>\n",
              "      <td>...</td>\n",
              "      <td>...</td>\n",
              "      <td>...</td>\n",
              "      <td>...</td>\n",
              "      <td>...</td>\n",
              "    </tr>\n",
              "    <tr>\n",
              "      <th>33711</th>\n",
              "      <td>33711</td>\n",
              "      <td>= ? iso - 8859 - 1 ? q ? good _ news _ c = eda...</td>\n",
              "      <td>hello , welcome to gigapharm onlinne shop .\\np...</td>\n",
              "      <td>spam</td>\n",
              "      <td>2005-07-29</td>\n",
              "    </tr>\n",
              "    <tr>\n",
              "      <th>33712</th>\n",
              "      <td>33712</td>\n",
              "      <td>all prescript medicines are on special . to be...</td>\n",
              "      <td>i got it earlier than expected and it was wrap...</td>\n",
              "      <td>spam</td>\n",
              "      <td>2005-07-29</td>\n",
              "    </tr>\n",
              "    <tr>\n",
              "      <th>33713</th>\n",
              "      <td>33713</td>\n",
              "      <td>the next generation online pharmacy .</td>\n",
              "      <td>are you ready to rock on ? let the man in you ...</td>\n",
              "      <td>spam</td>\n",
              "      <td>2005-07-30</td>\n",
              "    </tr>\n",
              "    <tr>\n",
              "      <th>33714</th>\n",
              "      <td>33714</td>\n",
              "      <td>bloow in 5 - 10 times the time</td>\n",
              "      <td>learn how to last 5 - 10 times longer in\\nbed ...</td>\n",
              "      <td>spam</td>\n",
              "      <td>2005-07-30</td>\n",
              "    </tr>\n",
              "    <tr>\n",
              "      <th>33715</th>\n",
              "      <td>33715</td>\n",
              "      <td>dear sir , i am interested in it</td>\n",
              "      <td>hi : )\\ndo you need some softwares ? i can giv...</td>\n",
              "      <td>spam</td>\n",
              "      <td>2005-07-31</td>\n",
              "    </tr>\n",
              "  </tbody>\n",
              "</table>\n",
              "<p>33716 rows × 5 columns</p>\n",
              "</div>"
            ],
            "text/plain": [
              "       Message ID                                            Subject  \\\n",
              "0               0                       christmas tree farm pictures   \n",
              "1               1                           vastar resources , inc .   \n",
              "2               2                       calpine daily gas nomination   \n",
              "3               3                                         re : issue   \n",
              "4               4                          meter 7268 nov allocation   \n",
              "...           ...                                                ...   \n",
              "33711       33711  = ? iso - 8859 - 1 ? q ? good _ news _ c = eda...   \n",
              "33712       33712  all prescript medicines are on special . to be...   \n",
              "33713       33713              the next generation online pharmacy .   \n",
              "33714       33714                     bloow in 5 - 10 times the time   \n",
              "33715       33715                   dear sir , i am interested in it   \n",
              "\n",
              "                                                 Message Spam/Ham        Date  \n",
              "0                                                    NaN      ham  1999-12-10  \n",
              "1      gary , production from the high island larger ...      ham  1999-12-13  \n",
              "2                 - calpine daily gas nomination 1 . doc      ham  1999-12-14  \n",
              "3      fyi - see note below - already done .\\nstella\\...      ham  1999-12-14  \n",
              "4      fyi .\\n- - - - - - - - - - - - - - - - - - - -...      ham  1999-12-14  \n",
              "...                                                  ...      ...         ...  \n",
              "33711  hello , welcome to gigapharm onlinne shop .\\np...     spam  2005-07-29  \n",
              "33712  i got it earlier than expected and it was wrap...     spam  2005-07-29  \n",
              "33713  are you ready to rock on ? let the man in you ...     spam  2005-07-30  \n",
              "33714  learn how to last 5 - 10 times longer in\\nbed ...     spam  2005-07-30  \n",
              "33715  hi : )\\ndo you need some softwares ? i can giv...     spam  2005-07-31  \n",
              "\n",
              "[33716 rows x 5 columns]"
            ]
          },
          "execution_count": 2,
          "metadata": {},
          "output_type": "execute_result"
        }
      ],
      "source": [
        "# pandas can read the zip file directly\n",
        "enron_spam_data = pd.read_csv(\"enron_spam_data.zip\")\n",
        "enron_spam_data"
      ]
    },
    {
      "cell_type": "code",
      "execution_count": 3,
      "metadata": {
        "colab": {
          "base_uri": "https://localhost:8080/"
        },
        "id": "JYypb_fJWF_A",
        "outputId": "17478b00-1c10-4026-a42b-dcc8a368eab5"
      },
      "outputs": [
        {
          "data": {
            "text/plain": [
              "np.float64(0.5092834262664611)"
            ]
          },
          "execution_count": 3,
          "metadata": {},
          "output_type": "execute_result"
        }
      ],
      "source": [
        "(enron_spam_data[\"Spam/Ham\"] == \"spam\").mean()"
      ]
    },
    {
      "cell_type": "markdown",
      "metadata": {
        "id": "C8oSLkMqvMFF"
      },
      "source": [
        "## Part 2: Design a Feature Extractor\n",
        "\n",
        "Design a feature extractor for this data set and write out two files of features based on the text.\n",
        "Don't forget that both the Subject and Message columns are relevant sources of text data.\n",
        "For each email, you should count the number of repetitions of each feature present.\n",
        "The auto-grader will assume that you are using a multinomial distribution in the following problems."
      ]
    },
    {
      "cell_type": "code",
      "execution_count": 8,
      "metadata": {
        "id": "-CF6wtn_VRjp"
      },
      "outputs": [
        {
          "name": "stdout",
          "output_type": "stream",
          "text": [
            "Extracted 158285 features\n",
            "Feature matrix shape: (33716, 158285)\n",
            "Sample features: ['þpor', 'þque', 'þquieres', 'þqué', 'þse', 'þte', 'þtiene', 'þtus', 'þtý', 'þu', 'þya', 'þá', 'þãõ', 'þåè', 'þí', 'þîñõþàà', 'þô', 'þöyledir', 'þù', 'þúíâí']\n"
          ]
        }
      ],
      "source": [
        "# Design Feature extractor for the subject and message fields\n",
        "from sklearn.feature_extraction.text import CountVectorizer\n",
        "import json\n",
        "\n",
        "# Combine Subject and Message into a single text field\n",
        "enron_spam_data['combined_text'] = (\n",
        "    enron_spam_data['Subject'].fillna('') + ' ' + enron_spam_data['Message'].fillna('')\n",
        ")\n",
        "\n",
        "# Configure CountVectorizer with good spam detection parameters\n",
        "vectorizer = CountVectorizer(\n",
        "    lowercase=True,           # Normalize case\n",
        "    ngram_range=(1, 1),       # Use unigrams\n",
        "    stop_words=None           # Keep stop words\n",
        ")\n",
        "\n",
        "# Fit and transform on the combined text\n",
        "feature_matrix = vectorizer.fit_transform(enron_spam_data['combined_text'])\n",
        "feature_names = vectorizer.get_feature_names_out()\n",
        "\n",
        "print(f\"Extracted {len(feature_names)} features\")\n",
        "print(f\"Feature matrix shape: {feature_matrix.shape}\")\n",
        "print(f\"Sample features: {list(feature_names[-20:])}\")"
      ]
    },
    {
      "cell_type": "markdown",
      "metadata": {
        "id": "g90ug-qYVWI2"
      },
      "source": [
        "Assign a row to the test data set if `Message ID % 30 == 0` and assign it to the training data set otherwise.\n",
        "Write two files, \"train-features.tsv\" and \"test-features.tsv\" with two columns, Message ID and features_json.\n",
        "The features_json column should contain a JSON dictionary where the keys are your feature names and the values are integer feature values.\n",
        "This will give us a sparse feature representation.\n"
      ]
    },
    {
      "cell_type": "code",
      "execution_count": 9,
      "metadata": {
        "id": "t7AjXVlXUpaR"
      },
      "outputs": [
        {
          "name": "stdout",
          "output_type": "stream",
          "text": [
            "Training samples: 32592\n",
            "Test samples: 1124\n"
          ]
        }
      ],
      "source": [
        "# Split data: test if Message ID % 30 == 0, otherwise train\n",
        "train_mask = enron_spam_data['Message ID'] % 30 != 0\n",
        "test_mask = enron_spam_data['Message ID'] % 30 == 0\n",
        "\n",
        "train_data = enron_spam_data[train_mask].copy()\n",
        "test_data = enron_spam_data[test_mask].copy()\n",
        "\n",
        "print(f\"Training samples: {len(train_data)}\")\n",
        "print(f\"Test samples: {len(test_data)}\")\n",
        "\n",
        "# Convert feature matrix to sparse JSON format\n",
        "def create_features_json(feature_matrix, feature_names):\n",
        "    \"\"\"Convert scipy sparse matrix to list of JSON dictionaries with non-zero counts\"\"\"\n",
        "    features_list = []\n",
        "    \n",
        "    for i in range(feature_matrix.shape[0]):\n",
        "        # Get non-zero features for this row\n",
        "        row = feature_matrix[i]\n",
        "        non_zero_indices = row.nonzero()[1]\n",
        "        \n",
        "        # Create dictionary with feature names and counts\n",
        "        feature_dict = {\n",
        "            feature_names[idx]: int(row[0, idx])\n",
        "            for idx in non_zero_indices\n",
        "        }\n",
        "        \n",
        "        features_list.append(json.dumps(feature_dict))\n",
        "    \n",
        "    return features_list\n",
        "\n",
        "# Get feature indices for train and test splits\n",
        "train_indices = train_data.index\n",
        "test_indices = test_data.index\n",
        "\n",
        "# Create features JSON for train and test\n",
        "train_features_json = create_features_json(feature_matrix[train_indices], feature_names)\n",
        "test_features_json = create_features_json(feature_matrix[test_indices], feature_names)\n",
        "\n",
        "# Create DataFrames with Message ID and features_json\n",
        "train_output = pd.DataFrame({\n",
        "    'Message ID': train_data['Message ID'].values,\n",
        "    'features_json': train_features_json\n",
        "})\n",
        "\n",
        "test_output = pd.DataFrame({\n",
        "    'Message ID': test_data['Message ID'].values,\n",
        "    'features_json': test_features_json\n",
        "})\n",
        "\n",
        "# Save to TSV files\n",
        "train_output.to_csv('train-features.tsv', sep='\\t', index=False)\n",
        "test_output.to_csv('test-features.tsv', sep='\\t', index=False)\n"
      ]
    },
    {
      "cell_type": "code",
      "execution_count": 10,
      "metadata": {},
      "outputs": [
        {
          "name": "stdout",
          "output_type": "stream",
          "text": [
            "\n",
            "Sample train features:\n",
            "   Message ID                                      features_json\n",
            "0           1  {\"vastar\": 6, \"resources\": 4, \"inc\": 4, \"gary\"...\n",
            "1           2  {\"nomination\": 2, \"gas\": 2, \"calpine\": 2, \"dai...\n",
            "2           3  {\"from\": 3, \"on\": 4, \"at\": 1, \"10\": 3, \"for\": ...\n",
            "\n",
            "Sample feature JSON: {\"vastar\": 6, \"resources\": 4, \"inc\": 4, \"gary\": 2, \"production\": 3, \"from\": 3, \"the\": 8, \"high\": 2, \"island\": 2, \"larger\": 2, \"block\": 2, \"commenced\": 1, \"on\": 7, \"saturday\": 1, \"at\": 3, \"00\": 2, \"abo...\n",
            "\n",
            "Sample test features:\n",
            "   Message ID                                      features_json\n",
            "0           0  {\"christmas\": 1, \"tree\": 1, \"farm\": 1, \"pictur...\n",
            "1          30  {\"christmas\": 1, \"production\": 3, \"from\": 1, \"...\n",
            "2          60  {\"the\": 1, \"of\": 1, \"by\": 1, \"please\": 1, \"cal...\n",
            "\n",
            "Sample feature JSON: {\"christmas\": 1, \"tree\": 1, \"farm\": 1, \"pictures\": 1}...\n"
          ]
        }
      ],
      "source": [
        "print(\"\\nSample train features:\")\n",
        "print(train_output.head(3))\n",
        "print(f\"\\nSample feature JSON: {train_features_json[0][:200]}...\")\n",
        "\n",
        "print(\"\\nSample test features:\")\n",
        "print(test_output.head(3))\n",
        "print(f\"\\nSample feature JSON: {test_features_json[0][:200]}...\")"
      ]
    },
    {
      "cell_type": "markdown",
      "metadata": {
        "id": "WAEYBd7WUrC0"
      },
      "source": [
        "Submit \"train-features.tsv\" and \"test-features.tsv\" in Gradescope."
      ]
    },
    {
      "cell_type": "markdown",
      "metadata": {
        "id": "NwrLU0aIaNB7"
      },
      "source": [
        "Hint: these features will be graded based on the test accuracy of a logistic regression based on the training features.\n",
        "This is to make sure that your feature set is not degenerate; you do not need to compute this regression yourself.\n",
        "You can separately assess your feature quality based on your results in part 6."
      ]
    },
    {
      "cell_type": "markdown",
      "metadata": {
        "id": "O_PhU4d5vEFX"
      },
      "source": [
        "## Part 3: Compute Conditional Probabilities\n",
        "\n",
        "Based on your training data, compute appropriate conditional probabilities for use with naïve Bayes.\n",
        "Use of additive smoothing with $\\alpha=1$ to avoid zeros.\n"
      ]
    },
    {
      "cell_type": "code",
      "execution_count": null,
      "metadata": {},
      "outputs": [],
      "source": [
        "# compute appropriate probabilities for features given ham/spam classes\n",
        "import numpy as np\n",
        "\n",
        "feature_probs = np.zeros((2, len(feature_names)))\n",
        "cumsum = train_features_json.cumsum(axis=0)\n",
        "\n"
      ]
    },
    {
      "cell_type": "code",
      "execution_count": null,
      "metadata": {
        "id": "3MKi6er-Vde4"
      },
      "outputs": [
        {
          "name": "stdout",
          "output_type": "stream",
          "text": [
            "Top 10 conditional probability features:\n",
            "the: Spam:0.0309 and Ham:0.0409\n",
            "to: Spam:0.0237 and Ham:0.0291\n",
            "and: Spam:0.0211 and Ham:0.0188\n",
            "of: Spam:0.0202 and Ham:0.0174\n",
            "you: Spam:0.0135 and Ham:0.0077\n",
            "in: Spam:0.0131 and Ham:0.0136\n",
            "this: Spam:0.0099 and Ham:0.0065\n",
            "for: Spam:0.0098 and Ham:0.0112\n",
            "your: Spam:0.0096 and Ham:0.0030\n",
            "is: Spam:0.0095 and Ham:0.0086\n"
          ]
        },
        {
          "data": {
            "image/png": "[encoded data removed]",
            "text/plain": [
              "<Figure size 640x480 with 2 Axes>"
            ]
          },
          "metadata": {},
          "output_type": "display_data"
        }
      ],
      "source": [
        "# Train a bayesian model on the training data\n",
        "from sklearn.naive_bayes import MultinomialNB\n",
        "from sklearn.metrics import classification_report, ConfusionMatrixDisplay, confusion_matrix\n",
        "\n",
        "model_mnb = MultinomialNB(alpha=1.0)\n",
        "model_mnb.fit(feature_matrix[train_indices], train_data['Spam/Ham'])\n",
        "\n",
        "# Evaluate the model\n",
        "train_pred = model_mnb.predict(feature_matrix[train_indices])\n",
        "cm = confusion_matrix(train_data['Spam/Ham'], train_pred)\n",
        "ConfusionMatrixDisplay(cm, display_labels=model_mnb.classes_).plot()\n",
        "\n",
        "# Compute the conditional probabilities of each feature\n",
        "feature_log_probs = model_mnb.feature_log_prob_\n",
        "feature_probs = np.exp(feature_log_probs)\n",
        "\n",
        "# Display the top 10 conditional probability features\n",
        "spam_class_index = list(model_mnb.classes_).index('spam')\n",
        "ham_class_index = list(model_mnb.classes_).index('ham')\n",
        "spam_feature_probs = feature_probs[spam_class_index]\n",
        "ham_feature_probs = feature_probs[ham_class_index]\n",
        "top_spam_indices = np.argsort(spam_feature_probs)[-10:][::-1]\n",
        "print(\"Top 10 conditional probability features:\")\n",
        "for idx in top_spam_indices:\n",
        "    print(f\"{feature_names[idx]}: Spam:{spam_feature_probs[idx]:.4f} and Ham:{ham_feature_probs[idx]:.4f}\")"
      ]
    },
    {
      "cell_type": "markdown",
      "metadata": {
        "id": "pbDJfLCdVfHh"
      },
      "source": [
        "Save the conditional probabilities in a file \"feature-probabilities.tsv\" with columns feature, ham_probability and spam_probability."
      ]
    },
    {
      "cell_type": "code",
      "execution_count": 21,
      "metadata": {
        "id": "kTVFW327VsOC"
      },
      "outputs": [
        {
          "data": {
            "text/html": [
              "<div>\n",
              "<style scoped>\n",
              "    .dataframe tbody tr th:only-of-type {\n",
              "        vertical-align: middle;\n",
              "    }\n",
              "\n",
              "    .dataframe tbody tr th {\n",
              "        vertical-align: top;\n",
              "    }\n",
              "\n",
              "    .dataframe thead th {\n",
              "        text-align: right;\n",
              "    }\n",
              "</style>\n",
              "<table border=\"1\" class=\"dataframe\">\n",
              "  <thead>\n",
              "    <tr style=\"text-align: right;\">\n",
              "      <th></th>\n",
              "      <th>feature</th>\n",
              "      <th>ham_probability</th>\n",
              "      <th>spam_probability</th>\n",
              "    </tr>\n",
              "  </thead>\n",
              "  <tbody>\n",
              "    <tr>\n",
              "      <th>0</th>\n",
              "      <td>00</td>\n",
              "      <td>1.544494e-03</td>\n",
              "      <td>1.735535e-03</td>\n",
              "    </tr>\n",
              "    <tr>\n",
              "      <th>1</th>\n",
              "      <td>000</td>\n",
              "      <td>1.064690e-03</td>\n",
              "      <td>1.564451e-03</td>\n",
              "    </tr>\n",
              "    <tr>\n",
              "      <th>2</th>\n",
              "      <td>0000</td>\n",
              "      <td>6.943628e-06</td>\n",
              "      <td>1.452159e-04</td>\n",
              "    </tr>\n",
              "    <tr>\n",
              "      <th>3</th>\n",
              "      <td>000000</td>\n",
              "      <td>1.388726e-06</td>\n",
              "      <td>4.468181e-05</td>\n",
              "    </tr>\n",
              "    <tr>\n",
              "      <th>4</th>\n",
              "      <td>00000000</td>\n",
              "      <td>1.388726e-06</td>\n",
              "      <td>2.939593e-07</td>\n",
              "    </tr>\n",
              "    <tr>\n",
              "      <th>...</th>\n",
              "      <td>...</td>\n",
              "      <td>...</td>\n",
              "      <td>...</td>\n",
              "    </tr>\n",
              "    <tr>\n",
              "      <th>158280</th>\n",
              "      <td>þîñõþàà</td>\n",
              "      <td>2.314543e-07</td>\n",
              "      <td>5.879185e-07</td>\n",
              "    </tr>\n",
              "    <tr>\n",
              "      <th>158281</th>\n",
              "      <td>þô</td>\n",
              "      <td>2.314543e-07</td>\n",
              "      <td>5.879185e-07</td>\n",
              "    </tr>\n",
              "    <tr>\n",
              "      <th>158282</th>\n",
              "      <td>þöyledir</td>\n",
              "      <td>2.314543e-07</td>\n",
              "      <td>8.818778e-07</td>\n",
              "    </tr>\n",
              "    <tr>\n",
              "      <th>158283</th>\n",
              "      <td>þù</td>\n",
              "      <td>2.314543e-07</td>\n",
              "      <td>2.057715e-06</td>\n",
              "    </tr>\n",
              "    <tr>\n",
              "      <th>158284</th>\n",
              "      <td>þúíâí</td>\n",
              "      <td>2.314543e-07</td>\n",
              "      <td>5.879185e-07</td>\n",
              "    </tr>\n",
              "  </tbody>\n",
              "</table>\n",
              "<p>158285 rows × 3 columns</p>\n",
              "</div>"
            ],
            "text/plain": [
              "         feature  ham_probability  spam_probability\n",
              "0             00     1.544494e-03      1.735535e-03\n",
              "1            000     1.064690e-03      1.564451e-03\n",
              "2           0000     6.943628e-06      1.452159e-04\n",
              "3         000000     1.388726e-06      4.468181e-05\n",
              "4       00000000     1.388726e-06      2.939593e-07\n",
              "...          ...              ...               ...\n",
              "158280   þîñõþàà     2.314543e-07      5.879185e-07\n",
              "158281        þô     2.314543e-07      5.879185e-07\n",
              "158282  þöyledir     2.314543e-07      8.818778e-07\n",
              "158283        þù     2.314543e-07      2.057715e-06\n",
              "158284     þúíâí     2.314543e-07      5.879185e-07\n",
              "\n",
              "[158285 rows x 3 columns]"
            ]
          },
          "execution_count": 21,
          "metadata": {},
          "output_type": "execute_result"
        }
      ],
      "source": [
        "# Save the conditional probabilities to a TSV file\n",
        "import pandas as pd\n",
        "\n",
        "feature_prob_df = pd.DataFrame({\n",
        "    'feature': feature_names,\n",
        "    'ham_probability': ham_feature_probs,\n",
        "    'spam_probability': spam_feature_probs\n",
        "})\n",
        "\n",
        "feature_prob_df"
      ]
    },
    {
      "cell_type": "code",
      "execution_count": 23,
      "metadata": {},
      "outputs": [],
      "source": [
        "feature_prob_df.to_csv('submission/feature_probabilities.tsv', sep='\\t', index=False)"
      ]
    },
    {
      "cell_type": "markdown",
      "metadata": {
        "id": "Ip-k6K-hVt6q"
      },
      "source": [
        "Submit \"feature-probabilities.tsv\" in Gradescope."
      ]
    },
    {
      "cell_type": "markdown",
      "metadata": {
        "id": "kuQpZbILYqNd"
      },
      "source": [
        "## Part 4: Implement a Naïve Bayes Classifier\n",
        "\n",
        "Implement a naïve Bayes classifier based on your previous feature probabilities."
      ]
    },
    {
      "cell_type": "code",
      "execution_count": null,
      "metadata": {
        "id": "jkZeyZgsWr5-"
      },
      "outputs": [],
      "source": [
        "# Implement a niave\n",
        "\n",
        "..."
      ]
    },
    {
      "cell_type": "markdown",
      "metadata": {
        "id": "NeYGfCYXW89l"
      },
      "source": [
        "Save your prediction probabilities to \"train-predictions.tsv\" with columns Message ID, ham and spam."
      ]
    },
    {
      "cell_type": "code",
      "execution_count": null,
      "metadata": {
        "id": "kCKrHbpqZ1gY"
      },
      "outputs": [],
      "source": [
        "# YOUR CHANGES HERE\n",
        "\n",
        "..."
      ]
    },
    {
      "cell_type": "markdown",
      "metadata": {
        "id": "sGHYjWN9Z3Sq"
      },
      "source": [
        "Submit \"train-predictions.tsv\" in Gradescope."
      ]
    },
    {
      "cell_type": "markdown",
      "metadata": {
        "id": "PpTlyFLDOCDj"
      },
      "source": [
        "## Part 5: Predict Spam Probability for Test Data\n",
        "\n",
        "Use your previous classifier to predict spam probability for the test data."
      ]
    },
    {
      "cell_type": "code",
      "execution_count": null,
      "metadata": {
        "id": "UELHs9CzXaz1"
      },
      "outputs": [],
      "source": [
        "# YOUR CHANGES HERE\n",
        "\n",
        "..."
      ]
    },
    {
      "cell_type": "markdown",
      "metadata": {
        "id": "opc86JSEaAQM"
      },
      "source": [
        "Save your prediction probabilities in \"test-predictions.tsv\" with the same columns as \"train-predictions.tsv\"."
      ]
    },
    {
      "cell_type": "code",
      "execution_count": null,
      "metadata": {
        "id": "qIg1XaY_Z_Rr"
      },
      "outputs": [],
      "source": [
        "# YOUR CHANGES HERE\n",
        "\n",
        "..."
      ]
    },
    {
      "cell_type": "markdown",
      "metadata": {
        "id": "pLLbyE8paGqM"
      },
      "source": [
        "Submit \"test-predictions.tsv\" in Gradescope."
      ]
    },
    {
      "cell_type": "markdown",
      "metadata": {
        "id": "wU6ReUMsZNZ8"
      },
      "source": [
        "## Part 6: Construct ROC Curve\n",
        "\n",
        "For every probability threshold from 0.01 to .99 in increments of 0.01, compute the false and true positive rates from the test data using the spam class for positives.\n",
        "That is, if the predicted spam probability is greater than or equal to the threshold, predict spam."
      ]
    },
    {
      "cell_type": "code",
      "execution_count": null,
      "metadata": {
        "id": "QAx9jbDBYOVo"
      },
      "outputs": [],
      "source": [
        "# YOUR CHANGES HERE\n",
        "\n",
        "..."
      ]
    },
    {
      "cell_type": "markdown",
      "metadata": {
        "id": "baGaDOauX2vE"
      },
      "source": [
        "Save this data in a file \"roc.tsv\" with columns threshold, false_positive_rate and true_positive rate."
      ]
    },
    {
      "cell_type": "code",
      "execution_count": null,
      "metadata": {
        "id": "eSHCzA85YP_I"
      },
      "outputs": [],
      "source": [
        "# YOUR CHANGES HERE\n",
        "\n",
        "..."
      ]
    },
    {
      "cell_type": "markdown",
      "metadata": {
        "id": "Z4po8_NMYRuo"
      },
      "source": [
        "Submit \"roc.tsv\" in Gradescope."
      ]
    },
    {
      "cell_type": "markdown",
      "metadata": {
        "id": "ynaBbiCZhMYi"
      },
      "source": [
        "## Part 7: Signup for Gemini API Key\n",
        "\n",
        "Create a free Gemini API key at https://aistudio.google.com/app/api-keys.\n",
        "You will need to do this with a personal Google account - it will not work with your BU Google account.\n",
        "This will not incur any charges unless you configure billing information for the key.\n",
        "\n",
        "You will be asked to start a Gemini free trial for week 11.\n",
        "This will not incur any charges unless you exceed expected usage by an order of magnitude.\n"
      ]
    },
    {
      "cell_type": "markdown",
      "metadata": {
        "id": "E3xFKcX6hxTL"
      },
      "source": [
        "No submission needed."
      ]
    },
    {
      "cell_type": "markdown",
      "metadata": {
        "id": "smsTLuFcvR-I"
      },
      "source": [
        "## Part 8: Code\n",
        "\n",
        "Please submit a Jupyter notebook that can reproduce all your calculations and recreate the previously submitted files.\n",
        "You do not need to provide code for data collection if you did that by manually."
      ]
    },
    {
      "cell_type": "markdown",
      "metadata": {
        "id": "zi8lV2pbvWMs"
      },
      "source": [
        "## Part 9: Acknowledgements\n",
        "\n",
        "If you discussed this assignment with anyone, please acknowledge them here.\n",
        "If you did this assignment completely on your own, simply write none below.\n",
        "\n",
        "If you used any libraries not mentioned in this module's content, please list them with a brief explanation what you used them for. If you did not use any other libraries, simply write none below.\n",
        "\n",
        "If you used any generative AI tools, please add links to your transcripts below, and any other information that you feel is necessary to comply with the generative AI policy. If you did not use any generative AI tools, simply write none below."
      ]
    }
  ],
  "metadata": {
    "colab": {
      "toc_visible": false
    },
    "kernelspec": {
      "display_name": ".venv",
      "language": "python",
      "name": "python3"
    },
    "language_info": {
      "codemirror_mode": {
        "name": "ipython",
        "version": 3
      },
      "file_extension": ".py",
      "mimetype": "text/x-python",
      "name": "python",
      "nbconvert_exporter": "python",
      "pygments_lexer": "ipython3",
      "version": "3.13.0"
    }
  },
  "nbformat": 4,
  "nbformat_minor": 0
}
